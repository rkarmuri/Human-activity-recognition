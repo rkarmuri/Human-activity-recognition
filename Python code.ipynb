{
  "nbformat": 4,
  "nbformat_minor": 0,
  "metadata": {
    "colab": {
      "name": "Project.ipynb",
      "provenance": [],
      "collapsed_sections": []
    },
    "kernelspec": {
      "name": "python3",
      "display_name": "Python 3"
    },
    "language_info": {
      "name": "python"
    }
  },
  "cells": [
    {
      "cell_type": "markdown",
      "source": [
        "**Human activity recognition with smartphones**"
      ],
      "metadata": {
        "id": "WcTn0uRXNpcK"
      }
    },
    {
      "cell_type": "markdown",
      "source": [
        "**Step 1: Data collection.** \n",
        "\n",
        "**From:** https://www.kaggle.com/uciml/human-activity-recognition-with-smartphones/"
      ],
      "metadata": {
        "id": "lztE5zBqfnLT"
      }
    },
    {
      "cell_type": "markdown",
      "source": [
        "**Step 2: Data exploration**\n",
        "\n",
        "**Loading data into python**"
      ],
      "metadata": {
        "id": "h-oiUsb0fxiS"
      }
    },
    {
      "cell_type": "code",
      "execution_count": 1,
      "metadata": {
        "colab": {
          "base_uri": "https://localhost:8080/"
        },
        "id": "L5rrssWGfiCK",
        "outputId": "dbfa4e21-dac9-463e-e4c3-1197cafdc199"
      },
      "outputs": [
        {
          "output_type": "stream",
          "name": "stdout",
          "text": [
            "Mounted at /content/drive\n",
            "/content/drive/MyDrive\n",
            "\u001b[0m\u001b[01;34m'Colab Notebooks'\u001b[0m/        \u001b[01;34m'Machine Learning'\u001b[0m/\n",
            " \u001b[01;34mColloquium1\u001b[0m/             'ML project.gslides'\n",
            "\u001b[01;34m'Colloquium 2'\u001b[0m/           'ML Project Report.gdoc'\n",
            "\u001b[01;34m'Computing and Society'\u001b[0m/  \u001b[01;34m'Principles of Software development'\u001b[0m/\n",
            " \u001b[01;34mDatabases\u001b[0m/                testing_data.csv\n",
            " \u001b[01;34mDevOps\u001b[0m/                   training_data.csv\n",
            " \u001b[01;34mDocs\u001b[0m/                    'Untitled document.gdoc'\n",
            " final_practice.csv\n"
          ]
        }
      ],
      "source": [
        "from google.colab import drive\n",
        "drive.mount('/content/drive')\n",
        "%cd /content/drive/'MyDrive'\n",
        "%ls"
      ]
    },
    {
      "cell_type": "code",
      "source": [
        "import pandas as pd\n",
        "import numpy as np\n",
        "from keras.models import Sequential\n",
        "from keras.layers import Dense,Dropout\n",
        "from tensorflow import keras\n",
        "from tensorflow.keras import layers\n",
        "\n",
        "train_df = pd.read_csv('training_data.csv')\n",
        "test_df = pd.read_csv('testing_data.csv')"
      ],
      "metadata": {
        "id": "_FmzZd5Pfrha"
      },
      "execution_count": 2,
      "outputs": []
    },
    {
      "cell_type": "markdown",
      "source": [
        "The data is collected from 30 users split into training and testing sets by the UCI for Human activity recognition using smartphones."
      ],
      "metadata": {
        "id": "M7oAczfihFvY"
      }
    },
    {
      "cell_type": "markdown",
      "source": [
        "**Reporting the number of data samples, the number of features.**"
      ],
      "metadata": {
        "id": "BXjKgXbDgUpM"
      }
    },
    {
      "cell_type": "code",
      "source": [
        "train_df.info()"
      ],
      "metadata": {
        "colab": {
          "base_uri": "https://localhost:8080/"
        },
        "id": "qJqNboaVgcma",
        "outputId": "c373b860-3172-4833-e803-98e0c1af31f0"
      },
      "execution_count": 3,
      "outputs": [
        {
          "output_type": "stream",
          "name": "stdout",
          "text": [
            "<class 'pandas.core.frame.DataFrame'>\n",
            "RangeIndex: 7352 entries, 0 to 7351\n",
            "Columns: 563 entries, tBodyAcc-mean()-X to Activity\n",
            "dtypes: float64(561), int64(1), object(1)\n",
            "memory usage: 31.6+ MB\n"
          ]
        }
      ]
    },
    {
      "cell_type": "code",
      "source": [
        "train_df.tail()"
      ],
      "metadata": {
        "colab": {
          "base_uri": "https://localhost:8080/",
          "height": 334
        },
        "id": "yoVVUBg8iLgq",
        "outputId": "f6fcdb10-0903-44f2-ef5f-655898a7fccd"
      },
      "execution_count": 4,
      "outputs": [
        {
          "output_type": "execute_result",
          "data": {
            "text/html": [
              "\n",
              "  <div id=\"df-89f1cd91-c278-4eab-8c45-cc57226dbba1\">\n",
              "    <div class=\"colab-df-container\">\n",
              "      <div>\n",
              "<style scoped>\n",
              "    .dataframe tbody tr th:only-of-type {\n",
              "        vertical-align: middle;\n",
              "    }\n",
              "\n",
              "    .dataframe tbody tr th {\n",
              "        vertical-align: top;\n",
              "    }\n",
              "\n",
              "    .dataframe thead th {\n",
              "        text-align: right;\n",
              "    }\n",
              "</style>\n",
              "<table border=\"1\" class=\"dataframe\">\n",
              "  <thead>\n",
              "    <tr style=\"text-align: right;\">\n",
              "      <th></th>\n",
              "      <th>tBodyAcc-mean()-X</th>\n",
              "      <th>tBodyAcc-mean()-Y</th>\n",
              "      <th>tBodyAcc-mean()-Z</th>\n",
              "      <th>tBodyAcc-std()-X</th>\n",
              "      <th>tBodyAcc-std()-Y</th>\n",
              "      <th>tBodyAcc-std()-Z</th>\n",
              "      <th>tBodyAcc-mad()-X</th>\n",
              "      <th>tBodyAcc-mad()-Y</th>\n",
              "      <th>tBodyAcc-mad()-Z</th>\n",
              "      <th>tBodyAcc-max()-X</th>\n",
              "      <th>tBodyAcc-max()-Y</th>\n",
              "      <th>tBodyAcc-max()-Z</th>\n",
              "      <th>tBodyAcc-min()-X</th>\n",
              "      <th>tBodyAcc-min()-Y</th>\n",
              "      <th>tBodyAcc-min()-Z</th>\n",
              "      <th>tBodyAcc-sma()</th>\n",
              "      <th>tBodyAcc-energy()-X</th>\n",
              "      <th>tBodyAcc-energy()-Y</th>\n",
              "      <th>tBodyAcc-energy()-Z</th>\n",
              "      <th>tBodyAcc-iqr()-X</th>\n",
              "      <th>tBodyAcc-iqr()-Y</th>\n",
              "      <th>tBodyAcc-iqr()-Z</th>\n",
              "      <th>tBodyAcc-entropy()-X</th>\n",
              "      <th>tBodyAcc-entropy()-Y</th>\n",
              "      <th>tBodyAcc-entropy()-Z</th>\n",
              "      <th>tBodyAcc-arCoeff()-X,1</th>\n",
              "      <th>tBodyAcc-arCoeff()-X,2</th>\n",
              "      <th>tBodyAcc-arCoeff()-X,3</th>\n",
              "      <th>tBodyAcc-arCoeff()-X,4</th>\n",
              "      <th>tBodyAcc-arCoeff()-Y,1</th>\n",
              "      <th>tBodyAcc-arCoeff()-Y,2</th>\n",
              "      <th>tBodyAcc-arCoeff()-Y,3</th>\n",
              "      <th>tBodyAcc-arCoeff()-Y,4</th>\n",
              "      <th>tBodyAcc-arCoeff()-Z,1</th>\n",
              "      <th>tBodyAcc-arCoeff()-Z,2</th>\n",
              "      <th>tBodyAcc-arCoeff()-Z,3</th>\n",
              "      <th>tBodyAcc-arCoeff()-Z,4</th>\n",
              "      <th>tBodyAcc-correlation()-X,Y</th>\n",
              "      <th>tBodyAcc-correlation()-X,Z</th>\n",
              "      <th>tBodyAcc-correlation()-Y,Z</th>\n",
              "      <th>...</th>\n",
              "      <th>fBodyBodyAccJerkMag-entropy()</th>\n",
              "      <th>fBodyBodyAccJerkMag-maxInds</th>\n",
              "      <th>fBodyBodyAccJerkMag-meanFreq()</th>\n",
              "      <th>fBodyBodyAccJerkMag-skewness()</th>\n",
              "      <th>fBodyBodyAccJerkMag-kurtosis()</th>\n",
              "      <th>fBodyBodyGyroMag-mean()</th>\n",
              "      <th>fBodyBodyGyroMag-std()</th>\n",
              "      <th>fBodyBodyGyroMag-mad()</th>\n",
              "      <th>fBodyBodyGyroMag-max()</th>\n",
              "      <th>fBodyBodyGyroMag-min()</th>\n",
              "      <th>fBodyBodyGyroMag-sma()</th>\n",
              "      <th>fBodyBodyGyroMag-energy()</th>\n",
              "      <th>fBodyBodyGyroMag-iqr()</th>\n",
              "      <th>fBodyBodyGyroMag-entropy()</th>\n",
              "      <th>fBodyBodyGyroMag-maxInds</th>\n",
              "      <th>fBodyBodyGyroMag-meanFreq()</th>\n",
              "      <th>fBodyBodyGyroMag-skewness()</th>\n",
              "      <th>fBodyBodyGyroMag-kurtosis()</th>\n",
              "      <th>fBodyBodyGyroJerkMag-mean()</th>\n",
              "      <th>fBodyBodyGyroJerkMag-std()</th>\n",
              "      <th>fBodyBodyGyroJerkMag-mad()</th>\n",
              "      <th>fBodyBodyGyroJerkMag-max()</th>\n",
              "      <th>fBodyBodyGyroJerkMag-min()</th>\n",
              "      <th>fBodyBodyGyroJerkMag-sma()</th>\n",
              "      <th>fBodyBodyGyroJerkMag-energy()</th>\n",
              "      <th>fBodyBodyGyroJerkMag-iqr()</th>\n",
              "      <th>fBodyBodyGyroJerkMag-entropy()</th>\n",
              "      <th>fBodyBodyGyroJerkMag-maxInds</th>\n",
              "      <th>fBodyBodyGyroJerkMag-meanFreq()</th>\n",
              "      <th>fBodyBodyGyroJerkMag-skewness()</th>\n",
              "      <th>fBodyBodyGyroJerkMag-kurtosis()</th>\n",
              "      <th>angle(tBodyAccMean,gravity)</th>\n",
              "      <th>angle(tBodyAccJerkMean),gravityMean)</th>\n",
              "      <th>angle(tBodyGyroMean,gravityMean)</th>\n",
              "      <th>angle(tBodyGyroJerkMean,gravityMean)</th>\n",
              "      <th>angle(X,gravityMean)</th>\n",
              "      <th>angle(Y,gravityMean)</th>\n",
              "      <th>angle(Z,gravityMean)</th>\n",
              "      <th>subject</th>\n",
              "      <th>Activity</th>\n",
              "    </tr>\n",
              "  </thead>\n",
              "  <tbody>\n",
              "    <tr>\n",
              "      <th>7347</th>\n",
              "      <td>0.299665</td>\n",
              "      <td>-0.057193</td>\n",
              "      <td>-0.181233</td>\n",
              "      <td>-0.195387</td>\n",
              "      <td>0.039905</td>\n",
              "      <td>0.077078</td>\n",
              "      <td>-0.282301</td>\n",
              "      <td>0.043616</td>\n",
              "      <td>0.060410</td>\n",
              "      <td>0.210795</td>\n",
              "      <td>0.029369</td>\n",
              "      <td>-0.076700</td>\n",
              "      <td>0.273480</td>\n",
              "      <td>0.186626</td>\n",
              "      <td>0.266917</td>\n",
              "      <td>0.000698</td>\n",
              "      <td>-0.674986</td>\n",
              "      <td>-0.788077</td>\n",
              "      <td>-0.473463</td>\n",
              "      <td>-0.501092</td>\n",
              "      <td>-0.166197</td>\n",
              "      <td>0.034015</td>\n",
              "      <td>0.195643</td>\n",
              "      <td>0.140158</td>\n",
              "      <td>-0.082077</td>\n",
              "      <td>-0.561607</td>\n",
              "      <td>0.426433</td>\n",
              "      <td>-0.078255</td>\n",
              "      <td>-0.056751</td>\n",
              "      <td>-0.094106</td>\n",
              "      <td>0.099141</td>\n",
              "      <td>-0.119821</td>\n",
              "      <td>0.293112</td>\n",
              "      <td>-0.425386</td>\n",
              "      <td>0.267986</td>\n",
              "      <td>-0.205315</td>\n",
              "      <td>0.142117</td>\n",
              "      <td>-0.211822</td>\n",
              "      <td>-0.251582</td>\n",
              "      <td>-0.283335</td>\n",
              "      <td>...</td>\n",
              "      <td>0.354983</td>\n",
              "      <td>-0.904762</td>\n",
              "      <td>-0.066650</td>\n",
              "      <td>-0.076714</td>\n",
              "      <td>-0.426588</td>\n",
              "      <td>-0.332753</td>\n",
              "      <td>-0.129727</td>\n",
              "      <td>-0.128549</td>\n",
              "      <td>-0.251258</td>\n",
              "      <td>-0.995117</td>\n",
              "      <td>-0.332753</td>\n",
              "      <td>-0.605727</td>\n",
              "      <td>-0.292601</td>\n",
              "      <td>0.577573</td>\n",
              "      <td>-0.897436</td>\n",
              "      <td>-0.376234</td>\n",
              "      <td>-0.170845</td>\n",
              "      <td>-0.551898</td>\n",
              "      <td>-0.681097</td>\n",
              "      <td>-0.723951</td>\n",
              "      <td>-0.647418</td>\n",
              "      <td>-0.799450</td>\n",
              "      <td>-0.925241</td>\n",
              "      <td>-0.681097</td>\n",
              "      <td>-0.951092</td>\n",
              "      <td>-0.599074</td>\n",
              "      <td>0.310836</td>\n",
              "      <td>-0.904762</td>\n",
              "      <td>-0.070157</td>\n",
              "      <td>-0.588433</td>\n",
              "      <td>-0.880324</td>\n",
              "      <td>-0.190437</td>\n",
              "      <td>0.829718</td>\n",
              "      <td>0.206972</td>\n",
              "      <td>-0.425619</td>\n",
              "      <td>-0.791883</td>\n",
              "      <td>0.238604</td>\n",
              "      <td>0.049819</td>\n",
              "      <td>30</td>\n",
              "      <td>WALKING_UPSTAIRS</td>\n",
              "    </tr>\n",
              "    <tr>\n",
              "      <th>7348</th>\n",
              "      <td>0.273853</td>\n",
              "      <td>-0.007749</td>\n",
              "      <td>-0.147468</td>\n",
              "      <td>-0.235309</td>\n",
              "      <td>0.004816</td>\n",
              "      <td>0.059280</td>\n",
              "      <td>-0.322552</td>\n",
              "      <td>-0.029456</td>\n",
              "      <td>0.080585</td>\n",
              "      <td>0.117440</td>\n",
              "      <td>0.029369</td>\n",
              "      <td>-0.031966</td>\n",
              "      <td>0.282174</td>\n",
              "      <td>0.202880</td>\n",
              "      <td>0.266917</td>\n",
              "      <td>-0.041310</td>\n",
              "      <td>-0.706359</td>\n",
              "      <td>-0.804546</td>\n",
              "      <td>-0.495789</td>\n",
              "      <td>-0.520057</td>\n",
              "      <td>-0.279863</td>\n",
              "      <td>0.026565</td>\n",
              "      <td>0.178138</td>\n",
              "      <td>0.293566</td>\n",
              "      <td>-0.051532</td>\n",
              "      <td>-0.361660</td>\n",
              "      <td>0.149854</td>\n",
              "      <td>0.206839</td>\n",
              "      <td>-0.154722</td>\n",
              "      <td>0.032725</td>\n",
              "      <td>-0.057240</td>\n",
              "      <td>0.034260</td>\n",
              "      <td>0.239835</td>\n",
              "      <td>-0.364480</td>\n",
              "      <td>0.121335</td>\n",
              "      <td>0.188717</td>\n",
              "      <td>-0.207505</td>\n",
              "      <td>-0.198555</td>\n",
              "      <td>-0.225866</td>\n",
              "      <td>-0.274504</td>\n",
              "      <td>...</td>\n",
              "      <td>0.361739</td>\n",
              "      <td>-0.904762</td>\n",
              "      <td>-0.193946</td>\n",
              "      <td>-0.151879</td>\n",
              "      <td>-0.509448</td>\n",
              "      <td>-0.357992</td>\n",
              "      <td>-0.187114</td>\n",
              "      <td>-0.210320</td>\n",
              "      <td>-0.131733</td>\n",
              "      <td>-0.916112</td>\n",
              "      <td>-0.357992</td>\n",
              "      <td>-0.649987</td>\n",
              "      <td>-0.427577</td>\n",
              "      <td>0.620646</td>\n",
              "      <td>-0.846154</td>\n",
              "      <td>-0.296176</td>\n",
              "      <td>0.019626</td>\n",
              "      <td>-0.277183</td>\n",
              "      <td>-0.682756</td>\n",
              "      <td>-0.771183</td>\n",
              "      <td>-0.727039</td>\n",
              "      <td>-0.779350</td>\n",
              "      <td>-0.761880</td>\n",
              "      <td>-0.682756</td>\n",
              "      <td>-0.957032</td>\n",
              "      <td>-0.670062</td>\n",
              "      <td>0.207930</td>\n",
              "      <td>-0.904762</td>\n",
              "      <td>0.165259</td>\n",
              "      <td>-0.390738</td>\n",
              "      <td>-0.680744</td>\n",
              "      <td>0.064907</td>\n",
              "      <td>0.875679</td>\n",
              "      <td>-0.879033</td>\n",
              "      <td>0.400219</td>\n",
              "      <td>-0.771840</td>\n",
              "      <td>0.252676</td>\n",
              "      <td>0.050053</td>\n",
              "      <td>30</td>\n",
              "      <td>WALKING_UPSTAIRS</td>\n",
              "    </tr>\n",
              "    <tr>\n",
              "      <th>7349</th>\n",
              "      <td>0.273387</td>\n",
              "      <td>-0.017011</td>\n",
              "      <td>-0.045022</td>\n",
              "      <td>-0.218218</td>\n",
              "      <td>-0.103822</td>\n",
              "      <td>0.274533</td>\n",
              "      <td>-0.304515</td>\n",
              "      <td>-0.098913</td>\n",
              "      <td>0.332584</td>\n",
              "      <td>0.043999</td>\n",
              "      <td>-0.110405</td>\n",
              "      <td>0.055411</td>\n",
              "      <td>0.263175</td>\n",
              "      <td>0.202880</td>\n",
              "      <td>0.264670</td>\n",
              "      <td>0.008034</td>\n",
              "      <td>-0.693162</td>\n",
              "      <td>-0.844279</td>\n",
              "      <td>-0.271194</td>\n",
              "      <td>-0.488620</td>\n",
              "      <td>-0.250723</td>\n",
              "      <td>0.334376</td>\n",
              "      <td>0.173131</td>\n",
              "      <td>0.276040</td>\n",
              "      <td>0.152003</td>\n",
              "      <td>-0.376773</td>\n",
              "      <td>0.200784</td>\n",
              "      <td>0.063584</td>\n",
              "      <td>-0.017019</td>\n",
              "      <td>-0.004323</td>\n",
              "      <td>-0.023053</td>\n",
              "      <td>0.119962</td>\n",
              "      <td>0.080689</td>\n",
              "      <td>-0.420093</td>\n",
              "      <td>0.197763</td>\n",
              "      <td>-0.033780</td>\n",
              "      <td>0.016677</td>\n",
              "      <td>-0.226826</td>\n",
              "      <td>-0.184700</td>\n",
              "      <td>-0.198452</td>\n",
              "      <td>...</td>\n",
              "      <td>0.189903</td>\n",
              "      <td>-0.904762</td>\n",
              "      <td>0.007099</td>\n",
              "      <td>0.331457</td>\n",
              "      <td>0.083984</td>\n",
              "      <td>-0.351948</td>\n",
              "      <td>-0.032290</td>\n",
              "      <td>-0.193130</td>\n",
              "      <td>0.167388</td>\n",
              "      <td>-0.972099</td>\n",
              "      <td>-0.351948</td>\n",
              "      <td>-0.545002</td>\n",
              "      <td>-0.241789</td>\n",
              "      <td>0.584816</td>\n",
              "      <td>-0.846154</td>\n",
              "      <td>-0.320249</td>\n",
              "      <td>0.490169</td>\n",
              "      <td>0.313280</td>\n",
              "      <td>-0.685851</td>\n",
              "      <td>-0.726372</td>\n",
              "      <td>-0.724976</td>\n",
              "      <td>-0.709270</td>\n",
              "      <td>-0.692582</td>\n",
              "      <td>-0.685851</td>\n",
              "      <td>-0.952309</td>\n",
              "      <td>-0.696373</td>\n",
              "      <td>0.158936</td>\n",
              "      <td>-0.904762</td>\n",
              "      <td>0.195034</td>\n",
              "      <td>0.025145</td>\n",
              "      <td>-0.304029</td>\n",
              "      <td>0.052806</td>\n",
              "      <td>-0.266724</td>\n",
              "      <td>0.864404</td>\n",
              "      <td>0.701169</td>\n",
              "      <td>-0.779133</td>\n",
              "      <td>0.249145</td>\n",
              "      <td>0.040811</td>\n",
              "      <td>30</td>\n",
              "      <td>WALKING_UPSTAIRS</td>\n",
              "    </tr>\n",
              "    <tr>\n",
              "      <th>7350</th>\n",
              "      <td>0.289654</td>\n",
              "      <td>-0.018843</td>\n",
              "      <td>-0.158281</td>\n",
              "      <td>-0.219139</td>\n",
              "      <td>-0.111412</td>\n",
              "      <td>0.268893</td>\n",
              "      <td>-0.310487</td>\n",
              "      <td>-0.068200</td>\n",
              "      <td>0.319473</td>\n",
              "      <td>0.101702</td>\n",
              "      <td>-0.149495</td>\n",
              "      <td>0.055411</td>\n",
              "      <td>0.234850</td>\n",
              "      <td>0.237784</td>\n",
              "      <td>0.264670</td>\n",
              "      <td>0.020011</td>\n",
              "      <td>-0.693855</td>\n",
              "      <td>-0.846871</td>\n",
              "      <td>-0.279718</td>\n",
              "      <td>-0.488245</td>\n",
              "      <td>-0.196204</td>\n",
              "      <td>0.239455</td>\n",
              "      <td>0.160333</td>\n",
              "      <td>0.246561</td>\n",
              "      <td>0.021678</td>\n",
              "      <td>-0.475165</td>\n",
              "      <td>0.296546</td>\n",
              "      <td>0.009588</td>\n",
              "      <td>-0.038354</td>\n",
              "      <td>-0.277801</td>\n",
              "      <td>0.201032</td>\n",
              "      <td>0.101761</td>\n",
              "      <td>-0.108375</td>\n",
              "      <td>-0.438356</td>\n",
              "      <td>0.250837</td>\n",
              "      <td>-0.234309</td>\n",
              "      <td>0.232444</td>\n",
              "      <td>-0.257775</td>\n",
              "      <td>-0.231103</td>\n",
              "      <td>-0.189915</td>\n",
              "      <td>...</td>\n",
              "      <td>0.240644</td>\n",
              "      <td>-0.904762</td>\n",
              "      <td>-0.109902</td>\n",
              "      <td>0.038175</td>\n",
              "      <td>-0.305554</td>\n",
              "      <td>-0.415004</td>\n",
              "      <td>0.039199</td>\n",
              "      <td>-0.171131</td>\n",
              "      <td>0.115989</td>\n",
              "      <td>-0.959329</td>\n",
              "      <td>-0.415004</td>\n",
              "      <td>-0.510548</td>\n",
              "      <td>-0.513205</td>\n",
              "      <td>0.445207</td>\n",
              "      <td>-0.846154</td>\n",
              "      <td>-0.412332</td>\n",
              "      <td>0.308105</td>\n",
              "      <td>-0.042502</td>\n",
              "      <td>-0.712131</td>\n",
              "      <td>-0.689421</td>\n",
              "      <td>-0.702221</td>\n",
              "      <td>-0.694807</td>\n",
              "      <td>-0.886154</td>\n",
              "      <td>-0.712131</td>\n",
              "      <td>-0.951972</td>\n",
              "      <td>-0.760044</td>\n",
              "      <td>0.210070</td>\n",
              "      <td>-0.904762</td>\n",
              "      <td>0.013865</td>\n",
              "      <td>0.063907</td>\n",
              "      <td>-0.344314</td>\n",
              "      <td>-0.101360</td>\n",
              "      <td>0.700740</td>\n",
              "      <td>0.936674</td>\n",
              "      <td>-0.589479</td>\n",
              "      <td>-0.785181</td>\n",
              "      <td>0.246432</td>\n",
              "      <td>0.025339</td>\n",
              "      <td>30</td>\n",
              "      <td>WALKING_UPSTAIRS</td>\n",
              "    </tr>\n",
              "    <tr>\n",
              "      <th>7351</th>\n",
              "      <td>0.351503</td>\n",
              "      <td>-0.012423</td>\n",
              "      <td>-0.203867</td>\n",
              "      <td>-0.269270</td>\n",
              "      <td>-0.087212</td>\n",
              "      <td>0.177404</td>\n",
              "      <td>-0.377404</td>\n",
              "      <td>-0.038678</td>\n",
              "      <td>0.229430</td>\n",
              "      <td>0.269013</td>\n",
              "      <td>-0.147028</td>\n",
              "      <td>-0.133749</td>\n",
              "      <td>0.234850</td>\n",
              "      <td>0.237784</td>\n",
              "      <td>0.301579</td>\n",
              "      <td>-0.027958</td>\n",
              "      <td>-0.730624</td>\n",
              "      <td>-0.838478</td>\n",
              "      <td>-0.368309</td>\n",
              "      <td>-0.627128</td>\n",
              "      <td>-0.112288</td>\n",
              "      <td>0.262496</td>\n",
              "      <td>0.312180</td>\n",
              "      <td>0.333536</td>\n",
              "      <td>-0.099101</td>\n",
              "      <td>-0.442905</td>\n",
              "      <td>0.386497</td>\n",
              "      <td>-0.230562</td>\n",
              "      <td>0.139282</td>\n",
              "      <td>-0.446446</td>\n",
              "      <td>0.391569</td>\n",
              "      <td>-0.156435</td>\n",
              "      <td>0.097870</td>\n",
              "      <td>-0.405691</td>\n",
              "      <td>0.183340</td>\n",
              "      <td>-0.056556</td>\n",
              "      <td>0.054368</td>\n",
              "      <td>-0.266442</td>\n",
              "      <td>-0.291113</td>\n",
              "      <td>-0.200293</td>\n",
              "      <td>...</td>\n",
              "      <td>0.298694</td>\n",
              "      <td>-0.904762</td>\n",
              "      <td>-0.242448</td>\n",
              "      <td>-0.321950</td>\n",
              "      <td>-0.768542</td>\n",
              "      <td>-0.330780</td>\n",
              "      <td>-0.106002</td>\n",
              "      <td>-0.106450</td>\n",
              "      <td>-0.090538</td>\n",
              "      <td>-0.779153</td>\n",
              "      <td>-0.330780</td>\n",
              "      <td>-0.589429</td>\n",
              "      <td>-0.290645</td>\n",
              "      <td>0.436453</td>\n",
              "      <td>-0.846154</td>\n",
              "      <td>-0.389084</td>\n",
              "      <td>-0.057581</td>\n",
              "      <td>-0.387956</td>\n",
              "      <td>-0.715588</td>\n",
              "      <td>-0.745120</td>\n",
              "      <td>-0.697404</td>\n",
              "      <td>-0.783571</td>\n",
              "      <td>-0.758685</td>\n",
              "      <td>-0.715588</td>\n",
              "      <td>-0.959988</td>\n",
              "      <td>-0.677185</td>\n",
              "      <td>0.202026</td>\n",
              "      <td>-0.904762</td>\n",
              "      <td>-0.058402</td>\n",
              "      <td>-0.387052</td>\n",
              "      <td>-0.740738</td>\n",
              "      <td>-0.280088</td>\n",
              "      <td>-0.007739</td>\n",
              "      <td>-0.056088</td>\n",
              "      <td>-0.616956</td>\n",
              "      <td>-0.783267</td>\n",
              "      <td>0.246809</td>\n",
              "      <td>0.036695</td>\n",
              "      <td>30</td>\n",
              "      <td>WALKING_UPSTAIRS</td>\n",
              "    </tr>\n",
              "  </tbody>\n",
              "</table>\n",
              "<p>5 rows × 563 columns</p>\n",
              "</div>\n",
              "      <button class=\"colab-df-convert\" onclick=\"convertToInteractive('df-89f1cd91-c278-4eab-8c45-cc57226dbba1')\"\n",
              "              title=\"Convert this dataframe to an interactive table.\"\n",
              "              style=\"display:none;\">\n",
              "        \n",
              "  <svg xmlns=\"http://www.w3.org/2000/svg\" height=\"24px\"viewBox=\"0 0 24 24\"\n",
              "       width=\"24px\">\n",
              "    <path d=\"M0 0h24v24H0V0z\" fill=\"none\"/>\n",
              "    <path d=\"M18.56 5.44l.94 2.06.94-2.06 2.06-.94-2.06-.94-.94-2.06-.94 2.06-2.06.94zm-11 1L8.5 8.5l.94-2.06 2.06-.94-2.06-.94L8.5 2.5l-.94 2.06-2.06.94zm10 10l.94 2.06.94-2.06 2.06-.94-2.06-.94-.94-2.06-.94 2.06-2.06.94z\"/><path d=\"M17.41 7.96l-1.37-1.37c-.4-.4-.92-.59-1.43-.59-.52 0-1.04.2-1.43.59L10.3 9.45l-7.72 7.72c-.78.78-.78 2.05 0 2.83L4 21.41c.39.39.9.59 1.41.59.51 0 1.02-.2 1.41-.59l7.78-7.78 2.81-2.81c.8-.78.8-2.07 0-2.86zM5.41 20L4 18.59l7.72-7.72 1.47 1.35L5.41 20z\"/>\n",
              "  </svg>\n",
              "      </button>\n",
              "      \n",
              "  <style>\n",
              "    .colab-df-container {\n",
              "      display:flex;\n",
              "      flex-wrap:wrap;\n",
              "      gap: 12px;\n",
              "    }\n",
              "\n",
              "    .colab-df-convert {\n",
              "      background-color: #E8F0FE;\n",
              "      border: none;\n",
              "      border-radius: 50%;\n",
              "      cursor: pointer;\n",
              "      display: none;\n",
              "      fill: #1967D2;\n",
              "      height: 32px;\n",
              "      padding: 0 0 0 0;\n",
              "      width: 32px;\n",
              "    }\n",
              "\n",
              "    .colab-df-convert:hover {\n",
              "      background-color: #E2EBFA;\n",
              "      box-shadow: 0px 1px 2px rgba(60, 64, 67, 0.3), 0px 1px 3px 1px rgba(60, 64, 67, 0.15);\n",
              "      fill: #174EA6;\n",
              "    }\n",
              "\n",
              "    [theme=dark] .colab-df-convert {\n",
              "      background-color: #3B4455;\n",
              "      fill: #D2E3FC;\n",
              "    }\n",
              "\n",
              "    [theme=dark] .colab-df-convert:hover {\n",
              "      background-color: #434B5C;\n",
              "      box-shadow: 0px 1px 3px 1px rgba(0, 0, 0, 0.15);\n",
              "      filter: drop-shadow(0px 1px 2px rgba(0, 0, 0, 0.3));\n",
              "      fill: #FFFFFF;\n",
              "    }\n",
              "  </style>\n",
              "\n",
              "      <script>\n",
              "        const buttonEl =\n",
              "          document.querySelector('#df-89f1cd91-c278-4eab-8c45-cc57226dbba1 button.colab-df-convert');\n",
              "        buttonEl.style.display =\n",
              "          google.colab.kernel.accessAllowed ? 'block' : 'none';\n",
              "\n",
              "        async function convertToInteractive(key) {\n",
              "          const element = document.querySelector('#df-89f1cd91-c278-4eab-8c45-cc57226dbba1');\n",
              "          const dataTable =\n",
              "            await google.colab.kernel.invokeFunction('convertToInteractive',\n",
              "                                                     [key], {});\n",
              "          if (!dataTable) return;\n",
              "\n",
              "          const docLinkHtml = 'Like what you see? Visit the ' +\n",
              "            '<a target=\"_blank\" href=https://colab.research.google.com/notebooks/data_table.ipynb>data table notebook</a>'\n",
              "            + ' to learn more about interactive tables.';\n",
              "          element.innerHTML = '';\n",
              "          dataTable['output_type'] = 'display_data';\n",
              "          await google.colab.output.renderOutput(dataTable, element);\n",
              "          const docLink = document.createElement('div');\n",
              "          docLink.innerHTML = docLinkHtml;\n",
              "          element.appendChild(docLink);\n",
              "        }\n",
              "      </script>\n",
              "    </div>\n",
              "  </div>\n",
              "  "
            ],
            "text/plain": [
              "      tBodyAcc-mean()-X  tBodyAcc-mean()-Y  ...  subject          Activity\n",
              "7347           0.299665          -0.057193  ...       30  WALKING_UPSTAIRS\n",
              "7348           0.273853          -0.007749  ...       30  WALKING_UPSTAIRS\n",
              "7349           0.273387          -0.017011  ...       30  WALKING_UPSTAIRS\n",
              "7350           0.289654          -0.018843  ...       30  WALKING_UPSTAIRS\n",
              "7351           0.351503          -0.012423  ...       30  WALKING_UPSTAIRS\n",
              "\n",
              "[5 rows x 563 columns]"
            ]
          },
          "metadata": {},
          "execution_count": 4
        }
      ]
    },
    {
      "cell_type": "markdown",
      "source": [
        "The training data has 561 Features, 1 Subject (i.e., the person who gave the data for training the machine learning model) and 1 output variable i.e., Activity"
      ],
      "metadata": {
        "id": "o40s2H0Zgl9V"
      }
    },
    {
      "cell_type": "code",
      "source": [
        "train_df.describe()"
      ],
      "metadata": {
        "colab": {
          "base_uri": "https://localhost:8080/",
          "height": 428
        },
        "id": "q-y-N1aCjBai",
        "outputId": "e224f4c8-adc9-4778-946c-128946e094ab"
      },
      "execution_count": 5,
      "outputs": [
        {
          "output_type": "execute_result",
          "data": {
            "text/html": [
              "\n",
              "  <div id=\"df-d9e08fa5-d688-4a37-af5c-95f64896d5c8\">\n",
              "    <div class=\"colab-df-container\">\n",
              "      <div>\n",
              "<style scoped>\n",
              "    .dataframe tbody tr th:only-of-type {\n",
              "        vertical-align: middle;\n",
              "    }\n",
              "\n",
              "    .dataframe tbody tr th {\n",
              "        vertical-align: top;\n",
              "    }\n",
              "\n",
              "    .dataframe thead th {\n",
              "        text-align: right;\n",
              "    }\n",
              "</style>\n",
              "<table border=\"1\" class=\"dataframe\">\n",
              "  <thead>\n",
              "    <tr style=\"text-align: right;\">\n",
              "      <th></th>\n",
              "      <th>tBodyAcc-mean()-X</th>\n",
              "      <th>tBodyAcc-mean()-Y</th>\n",
              "      <th>tBodyAcc-mean()-Z</th>\n",
              "      <th>tBodyAcc-std()-X</th>\n",
              "      <th>tBodyAcc-std()-Y</th>\n",
              "      <th>tBodyAcc-std()-Z</th>\n",
              "      <th>tBodyAcc-mad()-X</th>\n",
              "      <th>tBodyAcc-mad()-Y</th>\n",
              "      <th>tBodyAcc-mad()-Z</th>\n",
              "      <th>tBodyAcc-max()-X</th>\n",
              "      <th>tBodyAcc-max()-Y</th>\n",
              "      <th>tBodyAcc-max()-Z</th>\n",
              "      <th>tBodyAcc-min()-X</th>\n",
              "      <th>tBodyAcc-min()-Y</th>\n",
              "      <th>tBodyAcc-min()-Z</th>\n",
              "      <th>tBodyAcc-sma()</th>\n",
              "      <th>tBodyAcc-energy()-X</th>\n",
              "      <th>tBodyAcc-energy()-Y</th>\n",
              "      <th>tBodyAcc-energy()-Z</th>\n",
              "      <th>tBodyAcc-iqr()-X</th>\n",
              "      <th>tBodyAcc-iqr()-Y</th>\n",
              "      <th>tBodyAcc-iqr()-Z</th>\n",
              "      <th>tBodyAcc-entropy()-X</th>\n",
              "      <th>tBodyAcc-entropy()-Y</th>\n",
              "      <th>tBodyAcc-entropy()-Z</th>\n",
              "      <th>tBodyAcc-arCoeff()-X,1</th>\n",
              "      <th>tBodyAcc-arCoeff()-X,2</th>\n",
              "      <th>tBodyAcc-arCoeff()-X,3</th>\n",
              "      <th>tBodyAcc-arCoeff()-X,4</th>\n",
              "      <th>tBodyAcc-arCoeff()-Y,1</th>\n",
              "      <th>tBodyAcc-arCoeff()-Y,2</th>\n",
              "      <th>tBodyAcc-arCoeff()-Y,3</th>\n",
              "      <th>tBodyAcc-arCoeff()-Y,4</th>\n",
              "      <th>tBodyAcc-arCoeff()-Z,1</th>\n",
              "      <th>tBodyAcc-arCoeff()-Z,2</th>\n",
              "      <th>tBodyAcc-arCoeff()-Z,3</th>\n",
              "      <th>tBodyAcc-arCoeff()-Z,4</th>\n",
              "      <th>tBodyAcc-correlation()-X,Y</th>\n",
              "      <th>tBodyAcc-correlation()-X,Z</th>\n",
              "      <th>tBodyAcc-correlation()-Y,Z</th>\n",
              "      <th>...</th>\n",
              "      <th>fBodyBodyAccJerkMag-iqr()</th>\n",
              "      <th>fBodyBodyAccJerkMag-entropy()</th>\n",
              "      <th>fBodyBodyAccJerkMag-maxInds</th>\n",
              "      <th>fBodyBodyAccJerkMag-meanFreq()</th>\n",
              "      <th>fBodyBodyAccJerkMag-skewness()</th>\n",
              "      <th>fBodyBodyAccJerkMag-kurtosis()</th>\n",
              "      <th>fBodyBodyGyroMag-mean()</th>\n",
              "      <th>fBodyBodyGyroMag-std()</th>\n",
              "      <th>fBodyBodyGyroMag-mad()</th>\n",
              "      <th>fBodyBodyGyroMag-max()</th>\n",
              "      <th>fBodyBodyGyroMag-min()</th>\n",
              "      <th>fBodyBodyGyroMag-sma()</th>\n",
              "      <th>fBodyBodyGyroMag-energy()</th>\n",
              "      <th>fBodyBodyGyroMag-iqr()</th>\n",
              "      <th>fBodyBodyGyroMag-entropy()</th>\n",
              "      <th>fBodyBodyGyroMag-maxInds</th>\n",
              "      <th>fBodyBodyGyroMag-meanFreq()</th>\n",
              "      <th>fBodyBodyGyroMag-skewness()</th>\n",
              "      <th>fBodyBodyGyroMag-kurtosis()</th>\n",
              "      <th>fBodyBodyGyroJerkMag-mean()</th>\n",
              "      <th>fBodyBodyGyroJerkMag-std()</th>\n",
              "      <th>fBodyBodyGyroJerkMag-mad()</th>\n",
              "      <th>fBodyBodyGyroJerkMag-max()</th>\n",
              "      <th>fBodyBodyGyroJerkMag-min()</th>\n",
              "      <th>fBodyBodyGyroJerkMag-sma()</th>\n",
              "      <th>fBodyBodyGyroJerkMag-energy()</th>\n",
              "      <th>fBodyBodyGyroJerkMag-iqr()</th>\n",
              "      <th>fBodyBodyGyroJerkMag-entropy()</th>\n",
              "      <th>fBodyBodyGyroJerkMag-maxInds</th>\n",
              "      <th>fBodyBodyGyroJerkMag-meanFreq()</th>\n",
              "      <th>fBodyBodyGyroJerkMag-skewness()</th>\n",
              "      <th>fBodyBodyGyroJerkMag-kurtosis()</th>\n",
              "      <th>angle(tBodyAccMean,gravity)</th>\n",
              "      <th>angle(tBodyAccJerkMean),gravityMean)</th>\n",
              "      <th>angle(tBodyGyroMean,gravityMean)</th>\n",
              "      <th>angle(tBodyGyroJerkMean,gravityMean)</th>\n",
              "      <th>angle(X,gravityMean)</th>\n",
              "      <th>angle(Y,gravityMean)</th>\n",
              "      <th>angle(Z,gravityMean)</th>\n",
              "      <th>subject</th>\n",
              "    </tr>\n",
              "  </thead>\n",
              "  <tbody>\n",
              "    <tr>\n",
              "      <th>count</th>\n",
              "      <td>7352.000000</td>\n",
              "      <td>7352.000000</td>\n",
              "      <td>7352.000000</td>\n",
              "      <td>7352.000000</td>\n",
              "      <td>7352.000000</td>\n",
              "      <td>7352.000000</td>\n",
              "      <td>7352.000000</td>\n",
              "      <td>7352.000000</td>\n",
              "      <td>7352.000000</td>\n",
              "      <td>7352.000000</td>\n",
              "      <td>7352.000000</td>\n",
              "      <td>7352.000000</td>\n",
              "      <td>7352.000000</td>\n",
              "      <td>7352.000000</td>\n",
              "      <td>7352.000000</td>\n",
              "      <td>7352.000000</td>\n",
              "      <td>7352.000000</td>\n",
              "      <td>7352.000000</td>\n",
              "      <td>7352.000000</td>\n",
              "      <td>7352.000000</td>\n",
              "      <td>7352.000000</td>\n",
              "      <td>7352.000000</td>\n",
              "      <td>7352.000000</td>\n",
              "      <td>7352.000000</td>\n",
              "      <td>7352.000000</td>\n",
              "      <td>7352.000000</td>\n",
              "      <td>7352.000000</td>\n",
              "      <td>7352.000000</td>\n",
              "      <td>7352.000000</td>\n",
              "      <td>7352.000000</td>\n",
              "      <td>7352.000000</td>\n",
              "      <td>7352.000000</td>\n",
              "      <td>7352.000000</td>\n",
              "      <td>7352.000000</td>\n",
              "      <td>7352.000000</td>\n",
              "      <td>7352.000000</td>\n",
              "      <td>7352.000000</td>\n",
              "      <td>7352.000000</td>\n",
              "      <td>7352.000000</td>\n",
              "      <td>7352.000000</td>\n",
              "      <td>...</td>\n",
              "      <td>7352.000000</td>\n",
              "      <td>7352.000000</td>\n",
              "      <td>7352.000000</td>\n",
              "      <td>7352.000000</td>\n",
              "      <td>7352.000000</td>\n",
              "      <td>7352.000000</td>\n",
              "      <td>7352.000000</td>\n",
              "      <td>7352.000000</td>\n",
              "      <td>7352.000000</td>\n",
              "      <td>7352.000000</td>\n",
              "      <td>7352.000000</td>\n",
              "      <td>7352.000000</td>\n",
              "      <td>7352.000000</td>\n",
              "      <td>7352.000000</td>\n",
              "      <td>7352.000000</td>\n",
              "      <td>7352.000000</td>\n",
              "      <td>7352.000000</td>\n",
              "      <td>7352.000000</td>\n",
              "      <td>7352.000000</td>\n",
              "      <td>7352.000000</td>\n",
              "      <td>7352.000000</td>\n",
              "      <td>7352.000000</td>\n",
              "      <td>7352.000000</td>\n",
              "      <td>7352.000000</td>\n",
              "      <td>7352.000000</td>\n",
              "      <td>7352.000000</td>\n",
              "      <td>7352.000000</td>\n",
              "      <td>7352.000000</td>\n",
              "      <td>7352.000000</td>\n",
              "      <td>7352.000000</td>\n",
              "      <td>7352.000000</td>\n",
              "      <td>7352.000000</td>\n",
              "      <td>7352.000000</td>\n",
              "      <td>7352.000000</td>\n",
              "      <td>7352.000000</td>\n",
              "      <td>7352.000000</td>\n",
              "      <td>7352.000000</td>\n",
              "      <td>7352.000000</td>\n",
              "      <td>7352.000000</td>\n",
              "      <td>7352.000000</td>\n",
              "    </tr>\n",
              "    <tr>\n",
              "      <th>mean</th>\n",
              "      <td>0.274488</td>\n",
              "      <td>-0.017695</td>\n",
              "      <td>-0.109141</td>\n",
              "      <td>-0.605438</td>\n",
              "      <td>-0.510938</td>\n",
              "      <td>-0.604754</td>\n",
              "      <td>-0.630512</td>\n",
              "      <td>-0.526907</td>\n",
              "      <td>-0.606150</td>\n",
              "      <td>-0.468604</td>\n",
              "      <td>-0.306043</td>\n",
              "      <td>-0.557121</td>\n",
              "      <td>0.523551</td>\n",
              "      <td>0.387386</td>\n",
              "      <td>0.594374</td>\n",
              "      <td>-0.547569</td>\n",
              "      <td>-0.820041</td>\n",
              "      <td>-0.901874</td>\n",
              "      <td>-0.845784</td>\n",
              "      <td>-0.684345</td>\n",
              "      <td>-0.643770</td>\n",
              "      <td>-0.631069</td>\n",
              "      <td>-0.102993</td>\n",
              "      <td>-0.137937</td>\n",
              "      <td>-0.163946</td>\n",
              "      <td>-0.116599</td>\n",
              "      <td>0.102762</td>\n",
              "      <td>-0.037786</td>\n",
              "      <td>0.130477</td>\n",
              "      <td>-0.026229</td>\n",
              "      <td>0.026322</td>\n",
              "      <td>0.159966</td>\n",
              "      <td>-0.019575</td>\n",
              "      <td>0.009420</td>\n",
              "      <td>0.033291</td>\n",
              "      <td>0.036587</td>\n",
              "      <td>-0.078640</td>\n",
              "      <td>-0.125131</td>\n",
              "      <td>-0.193802</td>\n",
              "      <td>0.105005</td>\n",
              "      <td>...</td>\n",
              "      <td>-0.678618</td>\n",
              "      <td>-0.347657</td>\n",
              "      <td>-0.877995</td>\n",
              "      <td>0.178195</td>\n",
              "      <td>-0.312968</td>\n",
              "      <td>-0.615441</td>\n",
              "      <td>-0.693210</td>\n",
              "      <td>-0.692876</td>\n",
              "      <td>-0.674830</td>\n",
              "      <td>-0.726645</td>\n",
              "      <td>-0.885103</td>\n",
              "      <td>-0.693210</td>\n",
              "      <td>-0.874292</td>\n",
              "      <td>-0.719795</td>\n",
              "      <td>-0.087878</td>\n",
              "      <td>-0.889442</td>\n",
              "      <td>-0.046516</td>\n",
              "      <td>-0.253649</td>\n",
              "      <td>-0.565425</td>\n",
              "      <td>-0.779376</td>\n",
              "      <td>-0.792391</td>\n",
              "      <td>-0.772836</td>\n",
              "      <td>-0.811409</td>\n",
              "      <td>-0.871927</td>\n",
              "      <td>-0.779376</td>\n",
              "      <td>-0.935785</td>\n",
              "      <td>-0.771497</td>\n",
              "      <td>-0.284627</td>\n",
              "      <td>-0.898859</td>\n",
              "      <td>0.125293</td>\n",
              "      <td>-0.307009</td>\n",
              "      <td>-0.625294</td>\n",
              "      <td>0.008684</td>\n",
              "      <td>0.002186</td>\n",
              "      <td>0.008726</td>\n",
              "      <td>-0.005981</td>\n",
              "      <td>-0.489547</td>\n",
              "      <td>0.058593</td>\n",
              "      <td>-0.056515</td>\n",
              "      <td>17.413085</td>\n",
              "    </tr>\n",
              "    <tr>\n",
              "      <th>std</th>\n",
              "      <td>0.070261</td>\n",
              "      <td>0.040811</td>\n",
              "      <td>0.056635</td>\n",
              "      <td>0.448734</td>\n",
              "      <td>0.502645</td>\n",
              "      <td>0.418687</td>\n",
              "      <td>0.424073</td>\n",
              "      <td>0.485942</td>\n",
              "      <td>0.414122</td>\n",
              "      <td>0.544547</td>\n",
              "      <td>0.282243</td>\n",
              "      <td>0.293867</td>\n",
              "      <td>0.363594</td>\n",
              "      <td>0.343611</td>\n",
              "      <td>0.297818</td>\n",
              "      <td>0.471808</td>\n",
              "      <td>0.259607</td>\n",
              "      <td>0.126333</td>\n",
              "      <td>0.221983</td>\n",
              "      <td>0.371608</td>\n",
              "      <td>0.371581</td>\n",
              "      <td>0.386569</td>\n",
              "      <td>0.468959</td>\n",
              "      <td>0.437268</td>\n",
              "      <td>0.371363</td>\n",
              "      <td>0.306507</td>\n",
              "      <td>0.246593</td>\n",
              "      <td>0.243635</td>\n",
              "      <td>0.230067</td>\n",
              "      <td>0.257383</td>\n",
              "      <td>0.215001</td>\n",
              "      <td>0.208837</td>\n",
              "      <td>0.221432</td>\n",
              "      <td>0.286081</td>\n",
              "      <td>0.216289</td>\n",
              "      <td>0.236226</td>\n",
              "      <td>0.232757</td>\n",
              "      <td>0.363155</td>\n",
              "      <td>0.331122</td>\n",
              "      <td>0.385379</td>\n",
              "      <td>...</td>\n",
              "      <td>0.370612</td>\n",
              "      <td>0.670112</td>\n",
              "      <td>0.188636</td>\n",
              "      <td>0.253755</td>\n",
              "      <td>0.358631</td>\n",
              "      <td>0.345329</td>\n",
              "      <td>0.335026</td>\n",
              "      <td>0.322850</td>\n",
              "      <td>0.343454</td>\n",
              "      <td>0.293098</td>\n",
              "      <td>0.173574</td>\n",
              "      <td>0.335026</td>\n",
              "      <td>0.192684</td>\n",
              "      <td>0.318706</td>\n",
              "      <td>0.611793</td>\n",
              "      <td>0.157653</td>\n",
              "      <td>0.282665</td>\n",
              "      <td>0.326624</td>\n",
              "      <td>0.326620</td>\n",
              "      <td>0.275733</td>\n",
              "      <td>0.265434</td>\n",
              "      <td>0.287613</td>\n",
              "      <td>0.246680</td>\n",
              "      <td>0.193344</td>\n",
              "      <td>0.275733</td>\n",
              "      <td>0.138683</td>\n",
              "      <td>0.287577</td>\n",
              "      <td>0.630896</td>\n",
              "      <td>0.143135</td>\n",
              "      <td>0.250994</td>\n",
              "      <td>0.321011</td>\n",
              "      <td>0.307584</td>\n",
              "      <td>0.336787</td>\n",
              "      <td>0.448306</td>\n",
              "      <td>0.608303</td>\n",
              "      <td>0.477975</td>\n",
              "      <td>0.511807</td>\n",
              "      <td>0.297480</td>\n",
              "      <td>0.279122</td>\n",
              "      <td>8.975143</td>\n",
              "    </tr>\n",
              "    <tr>\n",
              "      <th>min</th>\n",
              "      <td>-1.000000</td>\n",
              "      <td>-1.000000</td>\n",
              "      <td>-1.000000</td>\n",
              "      <td>-1.000000</td>\n",
              "      <td>-0.999873</td>\n",
              "      <td>-1.000000</td>\n",
              "      <td>-1.000000</td>\n",
              "      <td>-1.000000</td>\n",
              "      <td>-1.000000</td>\n",
              "      <td>-1.000000</td>\n",
              "      <td>-1.000000</td>\n",
              "      <td>-1.000000</td>\n",
              "      <td>-1.000000</td>\n",
              "      <td>-1.000000</td>\n",
              "      <td>-1.000000</td>\n",
              "      <td>-1.000000</td>\n",
              "      <td>-1.000000</td>\n",
              "      <td>-0.999999</td>\n",
              "      <td>-1.000000</td>\n",
              "      <td>-1.000000</td>\n",
              "      <td>-1.000000</td>\n",
              "      <td>-1.000000</td>\n",
              "      <td>-1.000000</td>\n",
              "      <td>-1.000000</td>\n",
              "      <td>-1.000000</td>\n",
              "      <td>-0.925897</td>\n",
              "      <td>-0.963099</td>\n",
              "      <td>-1.000000</td>\n",
              "      <td>-0.822053</td>\n",
              "      <td>-1.000000</td>\n",
              "      <td>-1.000000</td>\n",
              "      <td>-1.000000</td>\n",
              "      <td>-1.000000</td>\n",
              "      <td>-1.000000</td>\n",
              "      <td>-0.753754</td>\n",
              "      <td>-1.000000</td>\n",
              "      <td>-1.000000</td>\n",
              "      <td>-1.000000</td>\n",
              "      <td>-1.000000</td>\n",
              "      <td>-0.972219</td>\n",
              "      <td>...</td>\n",
              "      <td>-0.999499</td>\n",
              "      <td>-1.000000</td>\n",
              "      <td>-1.000000</td>\n",
              "      <td>-1.000000</td>\n",
              "      <td>-1.000000</td>\n",
              "      <td>-1.000000</td>\n",
              "      <td>-1.000000</td>\n",
              "      <td>-1.000000</td>\n",
              "      <td>-1.000000</td>\n",
              "      <td>-1.000000</td>\n",
              "      <td>-1.000000</td>\n",
              "      <td>-1.000000</td>\n",
              "      <td>-1.000000</td>\n",
              "      <td>-1.000000</td>\n",
              "      <td>-1.000000</td>\n",
              "      <td>-1.000000</td>\n",
              "      <td>-0.997500</td>\n",
              "      <td>-1.000000</td>\n",
              "      <td>-1.000000</td>\n",
              "      <td>-0.999996</td>\n",
              "      <td>-1.000000</td>\n",
              "      <td>-1.000000</td>\n",
              "      <td>-1.000000</td>\n",
              "      <td>-1.000000</td>\n",
              "      <td>-0.999996</td>\n",
              "      <td>-1.000000</td>\n",
              "      <td>-1.000000</td>\n",
              "      <td>-1.000000</td>\n",
              "      <td>-1.000000</td>\n",
              "      <td>-1.000000</td>\n",
              "      <td>-0.995357</td>\n",
              "      <td>-0.999765</td>\n",
              "      <td>-0.976580</td>\n",
              "      <td>-1.000000</td>\n",
              "      <td>-1.000000</td>\n",
              "      <td>-1.000000</td>\n",
              "      <td>-1.000000</td>\n",
              "      <td>-1.000000</td>\n",
              "      <td>-1.000000</td>\n",
              "      <td>1.000000</td>\n",
              "    </tr>\n",
              "    <tr>\n",
              "      <th>25%</th>\n",
              "      <td>0.262975</td>\n",
              "      <td>-0.024863</td>\n",
              "      <td>-0.120993</td>\n",
              "      <td>-0.992754</td>\n",
              "      <td>-0.978129</td>\n",
              "      <td>-0.980233</td>\n",
              "      <td>-0.993591</td>\n",
              "      <td>-0.978162</td>\n",
              "      <td>-0.980251</td>\n",
              "      <td>-0.936219</td>\n",
              "      <td>-0.563561</td>\n",
              "      <td>-0.812744</td>\n",
              "      <td>0.197051</td>\n",
              "      <td>0.101829</td>\n",
              "      <td>0.389787</td>\n",
              "      <td>-0.982992</td>\n",
              "      <td>-0.999936</td>\n",
              "      <td>-0.999786</td>\n",
              "      <td>-0.999460</td>\n",
              "      <td>-0.994387</td>\n",
              "      <td>-0.982159</td>\n",
              "      <td>-0.979623</td>\n",
              "      <td>-0.573441</td>\n",
              "      <td>-0.559584</td>\n",
              "      <td>-0.505512</td>\n",
              "      <td>-0.364926</td>\n",
              "      <td>-0.082544</td>\n",
              "      <td>-0.190581</td>\n",
              "      <td>-0.023857</td>\n",
              "      <td>-0.221943</td>\n",
              "      <td>-0.135433</td>\n",
              "      <td>0.034430</td>\n",
              "      <td>-0.168841</td>\n",
              "      <td>-0.207296</td>\n",
              "      <td>-0.123514</td>\n",
              "      <td>-0.106542</td>\n",
              "      <td>-0.238877</td>\n",
              "      <td>-0.373937</td>\n",
              "      <td>-0.403511</td>\n",
              "      <td>-0.147970</td>\n",
              "      <td>...</td>\n",
              "      <td>-0.989044</td>\n",
              "      <td>-1.000000</td>\n",
              "      <td>-0.968254</td>\n",
              "      <td>-0.000409</td>\n",
              "      <td>-0.607485</td>\n",
              "      <td>-0.882254</td>\n",
              "      <td>-0.984123</td>\n",
              "      <td>-0.980329</td>\n",
              "      <td>-0.980453</td>\n",
              "      <td>-0.981029</td>\n",
              "      <td>-0.994189</td>\n",
              "      <td>-0.984123</td>\n",
              "      <td>-0.999725</td>\n",
              "      <td>-0.986633</td>\n",
              "      <td>-0.690397</td>\n",
              "      <td>-1.000000</td>\n",
              "      <td>-0.240882</td>\n",
              "      <td>-0.492028</td>\n",
              "      <td>-0.802207</td>\n",
              "      <td>-0.993100</td>\n",
              "      <td>-0.993508</td>\n",
              "      <td>-0.992736</td>\n",
              "      <td>-0.994355</td>\n",
              "      <td>-0.994065</td>\n",
              "      <td>-0.993100</td>\n",
              "      <td>-0.999957</td>\n",
              "      <td>-0.992268</td>\n",
              "      <td>-0.955696</td>\n",
              "      <td>-0.968254</td>\n",
              "      <td>-0.023692</td>\n",
              "      <td>-0.542602</td>\n",
              "      <td>-0.845573</td>\n",
              "      <td>-0.121527</td>\n",
              "      <td>-0.289549</td>\n",
              "      <td>-0.482273</td>\n",
              "      <td>-0.376341</td>\n",
              "      <td>-0.812065</td>\n",
              "      <td>-0.017885</td>\n",
              "      <td>-0.143414</td>\n",
              "      <td>8.000000</td>\n",
              "    </tr>\n",
              "    <tr>\n",
              "      <th>50%</th>\n",
              "      <td>0.277193</td>\n",
              "      <td>-0.017219</td>\n",
              "      <td>-0.108676</td>\n",
              "      <td>-0.946196</td>\n",
              "      <td>-0.851897</td>\n",
              "      <td>-0.859365</td>\n",
              "      <td>-0.950709</td>\n",
              "      <td>-0.857328</td>\n",
              "      <td>-0.857143</td>\n",
              "      <td>-0.881637</td>\n",
              "      <td>-0.479677</td>\n",
              "      <td>-0.736516</td>\n",
              "      <td>0.792060</td>\n",
              "      <td>0.627737</td>\n",
              "      <td>0.778059</td>\n",
              "      <td>-0.885461</td>\n",
              "      <td>-0.998046</td>\n",
              "      <td>-0.994065</td>\n",
              "      <td>-0.985546</td>\n",
              "      <td>-0.957859</td>\n",
              "      <td>-0.896093</td>\n",
              "      <td>-0.864515</td>\n",
              "      <td>-0.073369</td>\n",
              "      <td>-0.136793</td>\n",
              "      <td>-0.148889</td>\n",
              "      <td>-0.129393</td>\n",
              "      <td>0.070073</td>\n",
              "      <td>-0.019001</td>\n",
              "      <td>0.134149</td>\n",
              "      <td>-0.040710</td>\n",
              "      <td>0.011748</td>\n",
              "      <td>0.168444</td>\n",
              "      <td>-0.022448</td>\n",
              "      <td>0.029044</td>\n",
              "      <td>0.003266</td>\n",
              "      <td>0.049432</td>\n",
              "      <td>-0.081940</td>\n",
              "      <td>-0.163728</td>\n",
              "      <td>-0.189673</td>\n",
              "      <td>0.147482</td>\n",
              "      <td>...</td>\n",
              "      <td>-0.950502</td>\n",
              "      <td>-0.740806</td>\n",
              "      <td>-0.904762</td>\n",
              "      <td>0.168645</td>\n",
              "      <td>-0.364784</td>\n",
              "      <td>-0.727332</td>\n",
              "      <td>-0.886439</td>\n",
              "      <td>-0.837698</td>\n",
              "      <td>-0.859053</td>\n",
              "      <td>-0.836296</td>\n",
              "      <td>-0.960136</td>\n",
              "      <td>-0.886439</td>\n",
              "      <td>-0.986266</td>\n",
              "      <td>-0.923298</td>\n",
              "      <td>-0.190223</td>\n",
              "      <td>-0.948718</td>\n",
              "      <td>-0.061597</td>\n",
              "      <td>-0.309252</td>\n",
              "      <td>-0.655594</td>\n",
              "      <td>-0.952398</td>\n",
              "      <td>-0.947140</td>\n",
              "      <td>-0.945223</td>\n",
              "      <td>-0.950796</td>\n",
              "      <td>-0.975676</td>\n",
              "      <td>-0.952398</td>\n",
              "      <td>-0.998471</td>\n",
              "      <td>-0.949768</td>\n",
              "      <td>-0.455569</td>\n",
              "      <td>-0.904762</td>\n",
              "      <td>0.134000</td>\n",
              "      <td>-0.343685</td>\n",
              "      <td>-0.711692</td>\n",
              "      <td>0.009509</td>\n",
              "      <td>0.008943</td>\n",
              "      <td>0.008735</td>\n",
              "      <td>-0.000368</td>\n",
              "      <td>-0.709417</td>\n",
              "      <td>0.182071</td>\n",
              "      <td>0.003181</td>\n",
              "      <td>19.000000</td>\n",
              "    </tr>\n",
              "    <tr>\n",
              "      <th>75%</th>\n",
              "      <td>0.288461</td>\n",
              "      <td>-0.010783</td>\n",
              "      <td>-0.097794</td>\n",
              "      <td>-0.242813</td>\n",
              "      <td>-0.034231</td>\n",
              "      <td>-0.262415</td>\n",
              "      <td>-0.292680</td>\n",
              "      <td>-0.066701</td>\n",
              "      <td>-0.265671</td>\n",
              "      <td>-0.017129</td>\n",
              "      <td>-0.065364</td>\n",
              "      <td>-0.332014</td>\n",
              "      <td>0.844420</td>\n",
              "      <td>0.685622</td>\n",
              "      <td>0.837323</td>\n",
              "      <td>-0.107428</td>\n",
              "      <td>-0.710707</td>\n",
              "      <td>-0.816703</td>\n",
              "      <td>-0.748018</td>\n",
              "      <td>-0.393220</td>\n",
              "      <td>-0.310548</td>\n",
              "      <td>-0.316037</td>\n",
              "      <td>0.336504</td>\n",
              "      <td>0.280170</td>\n",
              "      <td>0.164123</td>\n",
              "      <td>0.132657</td>\n",
              "      <td>0.276872</td>\n",
              "      <td>0.128635</td>\n",
              "      <td>0.285318</td>\n",
              "      <td>0.172344</td>\n",
              "      <td>0.177832</td>\n",
              "      <td>0.293410</td>\n",
              "      <td>0.130862</td>\n",
              "      <td>0.230983</td>\n",
              "      <td>0.175602</td>\n",
              "      <td>0.195556</td>\n",
              "      <td>0.079229</td>\n",
              "      <td>0.070818</td>\n",
              "      <td>0.005170</td>\n",
              "      <td>0.382231</td>\n",
              "      <td>...</td>\n",
              "      <td>-0.371989</td>\n",
              "      <td>0.350640</td>\n",
              "      <td>-0.873016</td>\n",
              "      <td>0.364240</td>\n",
              "      <td>-0.082569</td>\n",
              "      <td>-0.449997</td>\n",
              "      <td>-0.438439</td>\n",
              "      <td>-0.451900</td>\n",
              "      <td>-0.397123</td>\n",
              "      <td>-0.540666</td>\n",
              "      <td>-0.837425</td>\n",
              "      <td>-0.438439</td>\n",
              "      <td>-0.800743</td>\n",
              "      <td>-0.484202</td>\n",
              "      <td>0.515789</td>\n",
              "      <td>-0.846154</td>\n",
              "      <td>0.148795</td>\n",
              "      <td>-0.069952</td>\n",
              "      <td>-0.428376</td>\n",
              "      <td>-0.611952</td>\n",
              "      <td>-0.642627</td>\n",
              "      <td>-0.608047</td>\n",
              "      <td>-0.688776</td>\n",
              "      <td>-0.808263</td>\n",
              "      <td>-0.611952</td>\n",
              "      <td>-0.922503</td>\n",
              "      <td>-0.603952</td>\n",
              "      <td>0.336785</td>\n",
              "      <td>-0.873016</td>\n",
              "      <td>0.289096</td>\n",
              "      <td>-0.126979</td>\n",
              "      <td>-0.503878</td>\n",
              "      <td>0.150865</td>\n",
              "      <td>0.292861</td>\n",
              "      <td>0.506187</td>\n",
              "      <td>0.359368</td>\n",
              "      <td>-0.509079</td>\n",
              "      <td>0.248353</td>\n",
              "      <td>0.107659</td>\n",
              "      <td>26.000000</td>\n",
              "    </tr>\n",
              "    <tr>\n",
              "      <th>max</th>\n",
              "      <td>1.000000</td>\n",
              "      <td>1.000000</td>\n",
              "      <td>1.000000</td>\n",
              "      <td>1.000000</td>\n",
              "      <td>0.916238</td>\n",
              "      <td>1.000000</td>\n",
              "      <td>1.000000</td>\n",
              "      <td>0.967664</td>\n",
              "      <td>1.000000</td>\n",
              "      <td>1.000000</td>\n",
              "      <td>1.000000</td>\n",
              "      <td>1.000000</td>\n",
              "      <td>1.000000</td>\n",
              "      <td>1.000000</td>\n",
              "      <td>1.000000</td>\n",
              "      <td>1.000000</td>\n",
              "      <td>1.000000</td>\n",
              "      <td>1.000000</td>\n",
              "      <td>1.000000</td>\n",
              "      <td>1.000000</td>\n",
              "      <td>1.000000</td>\n",
              "      <td>1.000000</td>\n",
              "      <td>0.919662</td>\n",
              "      <td>1.000000</td>\n",
              "      <td>1.000000</td>\n",
              "      <td>1.000000</td>\n",
              "      <td>0.978449</td>\n",
              "      <td>1.000000</td>\n",
              "      <td>1.000000</td>\n",
              "      <td>1.000000</td>\n",
              "      <td>1.000000</td>\n",
              "      <td>1.000000</td>\n",
              "      <td>1.000000</td>\n",
              "      <td>0.814623</td>\n",
              "      <td>1.000000</td>\n",
              "      <td>0.997207</td>\n",
              "      <td>1.000000</td>\n",
              "      <td>1.000000</td>\n",
              "      <td>1.000000</td>\n",
              "      <td>1.000000</td>\n",
              "      <td>...</td>\n",
              "      <td>1.000000</td>\n",
              "      <td>1.000000</td>\n",
              "      <td>1.000000</td>\n",
              "      <td>0.975821</td>\n",
              "      <td>1.000000</td>\n",
              "      <td>1.000000</td>\n",
              "      <td>1.000000</td>\n",
              "      <td>1.000000</td>\n",
              "      <td>1.000000</td>\n",
              "      <td>0.842119</td>\n",
              "      <td>1.000000</td>\n",
              "      <td>1.000000</td>\n",
              "      <td>1.000000</td>\n",
              "      <td>1.000000</td>\n",
              "      <td>1.000000</td>\n",
              "      <td>1.000000</td>\n",
              "      <td>1.000000</td>\n",
              "      <td>0.969311</td>\n",
              "      <td>0.949350</td>\n",
              "      <td>1.000000</td>\n",
              "      <td>1.000000</td>\n",
              "      <td>1.000000</td>\n",
              "      <td>1.000000</td>\n",
              "      <td>1.000000</td>\n",
              "      <td>1.000000</td>\n",
              "      <td>1.000000</td>\n",
              "      <td>1.000000</td>\n",
              "      <td>1.000000</td>\n",
              "      <td>0.968254</td>\n",
              "      <td>0.946700</td>\n",
              "      <td>0.989538</td>\n",
              "      <td>0.956845</td>\n",
              "      <td>1.000000</td>\n",
              "      <td>1.000000</td>\n",
              "      <td>0.998702</td>\n",
              "      <td>0.996078</td>\n",
              "      <td>1.000000</td>\n",
              "      <td>0.478157</td>\n",
              "      <td>1.000000</td>\n",
              "      <td>30.000000</td>\n",
              "    </tr>\n",
              "  </tbody>\n",
              "</table>\n",
              "<p>8 rows × 562 columns</p>\n",
              "</div>\n",
              "      <button class=\"colab-df-convert\" onclick=\"convertToInteractive('df-d9e08fa5-d688-4a37-af5c-95f64896d5c8')\"\n",
              "              title=\"Convert this dataframe to an interactive table.\"\n",
              "              style=\"display:none;\">\n",
              "        \n",
              "  <svg xmlns=\"http://www.w3.org/2000/svg\" height=\"24px\"viewBox=\"0 0 24 24\"\n",
              "       width=\"24px\">\n",
              "    <path d=\"M0 0h24v24H0V0z\" fill=\"none\"/>\n",
              "    <path d=\"M18.56 5.44l.94 2.06.94-2.06 2.06-.94-2.06-.94-.94-2.06-.94 2.06-2.06.94zm-11 1L8.5 8.5l.94-2.06 2.06-.94-2.06-.94L8.5 2.5l-.94 2.06-2.06.94zm10 10l.94 2.06.94-2.06 2.06-.94-2.06-.94-.94-2.06-.94 2.06-2.06.94z\"/><path d=\"M17.41 7.96l-1.37-1.37c-.4-.4-.92-.59-1.43-.59-.52 0-1.04.2-1.43.59L10.3 9.45l-7.72 7.72c-.78.78-.78 2.05 0 2.83L4 21.41c.39.39.9.59 1.41.59.51 0 1.02-.2 1.41-.59l7.78-7.78 2.81-2.81c.8-.78.8-2.07 0-2.86zM5.41 20L4 18.59l7.72-7.72 1.47 1.35L5.41 20z\"/>\n",
              "  </svg>\n",
              "      </button>\n",
              "      \n",
              "  <style>\n",
              "    .colab-df-container {\n",
              "      display:flex;\n",
              "      flex-wrap:wrap;\n",
              "      gap: 12px;\n",
              "    }\n",
              "\n",
              "    .colab-df-convert {\n",
              "      background-color: #E8F0FE;\n",
              "      border: none;\n",
              "      border-radius: 50%;\n",
              "      cursor: pointer;\n",
              "      display: none;\n",
              "      fill: #1967D2;\n",
              "      height: 32px;\n",
              "      padding: 0 0 0 0;\n",
              "      width: 32px;\n",
              "    }\n",
              "\n",
              "    .colab-df-convert:hover {\n",
              "      background-color: #E2EBFA;\n",
              "      box-shadow: 0px 1px 2px rgba(60, 64, 67, 0.3), 0px 1px 3px 1px rgba(60, 64, 67, 0.15);\n",
              "      fill: #174EA6;\n",
              "    }\n",
              "\n",
              "    [theme=dark] .colab-df-convert {\n",
              "      background-color: #3B4455;\n",
              "      fill: #D2E3FC;\n",
              "    }\n",
              "\n",
              "    [theme=dark] .colab-df-convert:hover {\n",
              "      background-color: #434B5C;\n",
              "      box-shadow: 0px 1px 3px 1px rgba(0, 0, 0, 0.15);\n",
              "      filter: drop-shadow(0px 1px 2px rgba(0, 0, 0, 0.3));\n",
              "      fill: #FFFFFF;\n",
              "    }\n",
              "  </style>\n",
              "\n",
              "      <script>\n",
              "        const buttonEl =\n",
              "          document.querySelector('#df-d9e08fa5-d688-4a37-af5c-95f64896d5c8 button.colab-df-convert');\n",
              "        buttonEl.style.display =\n",
              "          google.colab.kernel.accessAllowed ? 'block' : 'none';\n",
              "\n",
              "        async function convertToInteractive(key) {\n",
              "          const element = document.querySelector('#df-d9e08fa5-d688-4a37-af5c-95f64896d5c8');\n",
              "          const dataTable =\n",
              "            await google.colab.kernel.invokeFunction('convertToInteractive',\n",
              "                                                     [key], {});\n",
              "          if (!dataTable) return;\n",
              "\n",
              "          const docLinkHtml = 'Like what you see? Visit the ' +\n",
              "            '<a target=\"_blank\" href=https://colab.research.google.com/notebooks/data_table.ipynb>data table notebook</a>'\n",
              "            + ' to learn more about interactive tables.';\n",
              "          element.innerHTML = '';\n",
              "          dataTable['output_type'] = 'display_data';\n",
              "          await google.colab.output.renderOutput(dataTable, element);\n",
              "          const docLink = document.createElement('div');\n",
              "          docLink.innerHTML = docLinkHtml;\n",
              "          element.appendChild(docLink);\n",
              "        }\n",
              "      </script>\n",
              "    </div>\n",
              "  </div>\n",
              "  "
            ],
            "text/plain": [
              "       tBodyAcc-mean()-X  tBodyAcc-mean()-Y  ...  angle(Z,gravityMean)      subject\n",
              "count        7352.000000        7352.000000  ...           7352.000000  7352.000000\n",
              "mean            0.274488          -0.017695  ...             -0.056515    17.413085\n",
              "std             0.070261           0.040811  ...              0.279122     8.975143\n",
              "min            -1.000000          -1.000000  ...             -1.000000     1.000000\n",
              "25%             0.262975          -0.024863  ...             -0.143414     8.000000\n",
              "50%             0.277193          -0.017219  ...              0.003181    19.000000\n",
              "75%             0.288461          -0.010783  ...              0.107659    26.000000\n",
              "max             1.000000           1.000000  ...              1.000000    30.000000\n",
              "\n",
              "[8 rows x 562 columns]"
            ]
          },
          "metadata": {},
          "execution_count": 5
        }
      ]
    },
    {
      "cell_type": "markdown",
      "source": [
        "All the data values of the features are between -1 to 1, therefore there are no outliers."
      ],
      "metadata": {
        "id": "kUXnyoUhjNSj"
      }
    },
    {
      "cell_type": "code",
      "source": [
        "train_df.dtypes.value_counts()"
      ],
      "metadata": {
        "colab": {
          "base_uri": "https://localhost:8080/"
        },
        "id": "mFxPT6o3h8o_",
        "outputId": "cfc26df8-9878-4668-a228-718636141059"
      },
      "execution_count": 6,
      "outputs": [
        {
          "output_type": "execute_result",
          "data": {
            "text/plain": [
              "float64    561\n",
              "object       1\n",
              "int64        1\n",
              "dtype: int64"
            ]
          },
          "metadata": {},
          "execution_count": 6
        }
      ]
    },
    {
      "cell_type": "code",
      "source": [
        "train_df.Activity.value_counts()"
      ],
      "metadata": {
        "colab": {
          "base_uri": "https://localhost:8080/"
        },
        "id": "fAhRLpZbkAMU",
        "outputId": "dfa5ecc0-842e-4038-9322-f3d2c40da65b"
      },
      "execution_count": 7,
      "outputs": [
        {
          "output_type": "execute_result",
          "data": {
            "text/plain": [
              "LAYING                1407\n",
              "STANDING              1374\n",
              "SITTING               1286\n",
              "WALKING               1226\n",
              "WALKING_UPSTAIRS      1073\n",
              "WALKING_DOWNSTAIRS     986\n",
              "Name: Activity, dtype: int64"
            ]
          },
          "metadata": {},
          "execution_count": 7
        }
      ]
    },
    {
      "cell_type": "code",
      "source": [
        "train_df.columns"
      ],
      "metadata": {
        "colab": {
          "base_uri": "https://localhost:8080/"
        },
        "id": "VA48oYWDjxhe",
        "outputId": "49045500-fa9e-456a-e0ed-41a675ec739a"
      },
      "execution_count": 8,
      "outputs": [
        {
          "output_type": "execute_result",
          "data": {
            "text/plain": [
              "Index(['tBodyAcc-mean()-X', 'tBodyAcc-mean()-Y', 'tBodyAcc-mean()-Z',\n",
              "       'tBodyAcc-std()-X', 'tBodyAcc-std()-Y', 'tBodyAcc-std()-Z',\n",
              "       'tBodyAcc-mad()-X', 'tBodyAcc-mad()-Y', 'tBodyAcc-mad()-Z',\n",
              "       'tBodyAcc-max()-X',\n",
              "       ...\n",
              "       'fBodyBodyGyroJerkMag-kurtosis()', 'angle(tBodyAccMean,gravity)',\n",
              "       'angle(tBodyAccJerkMean),gravityMean)',\n",
              "       'angle(tBodyGyroMean,gravityMean)',\n",
              "       'angle(tBodyGyroJerkMean,gravityMean)', 'angle(X,gravityMean)',\n",
              "       'angle(Y,gravityMean)', 'angle(Z,gravityMean)', 'subject', 'Activity'],\n",
              "      dtype='object', length=563)"
            ]
          },
          "metadata": {},
          "execution_count": 8
        }
      ]
    },
    {
      "cell_type": "code",
      "source": [
        "train_df['Activity'].value_counts()"
      ],
      "metadata": {
        "colab": {
          "base_uri": "https://localhost:8080/"
        },
        "id": "mozyFWCjkCvW",
        "outputId": "48376777-d998-4144-b531-3a67908be6db"
      },
      "execution_count": 9,
      "outputs": [
        {
          "output_type": "execute_result",
          "data": {
            "text/plain": [
              "LAYING                1407\n",
              "STANDING              1374\n",
              "SITTING               1286\n",
              "WALKING               1226\n",
              "WALKING_UPSTAIRS      1073\n",
              "WALKING_DOWNSTAIRS     986\n",
              "Name: Activity, dtype: int64"
            ]
          },
          "metadata": {},
          "execution_count": 9
        }
      ]
    },
    {
      "cell_type": "markdown",
      "source": [
        "**Data Visualization**"
      ],
      "metadata": {
        "id": "IrIahZwkpZsY"
      }
    },
    {
      "cell_type": "code",
      "source": [
        "import matplotlib.pyplot as plt\n",
        "import seaborn as sns\n",
        "sns.set_style('whitegrid')\n",
        "plt.figure(figsize=(15,6))\n",
        "plt.title('Data provided by each user', fontsize=16)\n",
        "sns.countplot(x='subject',hue='Activity', data = train_df)\n",
        "plt.show()"
      ],
      "metadata": {
        "colab": {
          "base_uri": "https://localhost:8080/",
          "height": 406
        },
        "id": "jpRymb7EpkQv",
        "outputId": "08ba2ebc-c050-436b-bc2b-b7576466c2e7"
      },
      "execution_count": 10,
      "outputs": [
        {
          "output_type": "display_data",
          "data": {
            "image/png": "[encoded data removed]",
            "text/plain": [
              "<Figure size 1080x432 with 1 Axes>"
            ]
          },
          "metadata": {}
        }
      ]
    },
    {
      "cell_type": "code",
      "source": [
        "plt.figure(figsize = (10,6))\n",
        "plt.title('Subjects')\n",
        "sns.countplot(x = 'subject', data = train_df);"
      ],
      "metadata": {
        "colab": {
          "base_uri": "https://localhost:8080/",
          "height": 404
        },
        "id": "H0syemz5qaq7",
        "outputId": "0c6de1db-eb31-4175-e8ae-ffd8f7714b98"
      },
      "execution_count": 11,
      "outputs": [
        {
          "output_type": "display_data",
          "data": {
            "image/png": "[encoded data removed]",
            "text/plain": [
              "<Figure size 720x432 with 1 Axes>"
            ]
          },
          "metadata": {}
        }
      ]
    },
    {
      "cell_type": "code",
      "source": [
        "fig = plt.figure(figsize = (8, 4))\n",
        "ax = fig.add_axes([0,0,1,1])\n",
        "ax.set_title(\"Count of each activity\", fontsize = 15)\n",
        "plt.tick_params(labelsize = 10)\n",
        "sns.countplot(x = \"Activity\", data = train_df)\n",
        "plt.xlabel(\"\")\n",
        "plt.ylabel(\"Count\", fontsize = 15)\n",
        "plt.tick_params(labelsize = 13)\n",
        "plt.xticks(rotation = 40)\n",
        "plt.show()"
      ],
      "metadata": {
        "colab": {
          "base_uri": "https://localhost:8080/",
          "height": 453
        },
        "id": "8deC0uCTq7li",
        "outputId": "b6227a88-d9b3-4850-c37e-4b3d943c21ee"
      },
      "execution_count": 12,
      "outputs": [
        {
          "output_type": "display_data",
          "data": {
            "image/png": "[encoded data removed]",
            "text/plain": [
              "<Figure size 576x288 with 1 Axes>"
            ]
          },
          "metadata": {}
        }
      ]
    },
    {
      "cell_type": "markdown",
      "source": [
        "**Data normalization and inspecting the data for null values, duplicate values and missing values.**"
      ],
      "metadata": {
        "id": "zGgDSBx0hpY4"
      }
    },
    {
      "cell_type": "code",
      "source": [
        "train_df.Activity.value_counts(normalize=True)"
      ],
      "metadata": {
        "colab": {
          "base_uri": "https://localhost:8080/"
        },
        "id": "aHXCQqVOjlDS",
        "outputId": "bc0af444-c1b7-48d2-cfa4-59ec199621b4"
      },
      "execution_count": 13,
      "outputs": [
        {
          "output_type": "execute_result",
          "data": {
            "text/plain": [
              "LAYING                0.191376\n",
              "STANDING              0.186888\n",
              "SITTING               0.174918\n",
              "WALKING               0.166757\n",
              "WALKING_UPSTAIRS      0.145947\n",
              "WALKING_DOWNSTAIRS    0.134113\n",
              "Name: Activity, dtype: float64"
            ]
          },
          "metadata": {},
          "execution_count": 13
        }
      ]
    },
    {
      "cell_type": "code",
      "source": [
        "train_df.duplicated().sum()\n",
        "test_df.duplicated().sum()"
      ],
      "metadata": {
        "colab": {
          "base_uri": "https://localhost:8080/"
        },
        "id": "P3jgNc62kvF_",
        "outputId": "e9f1e3f1-431f-4266-fc13-8e3044cdb550"
      },
      "execution_count": 14,
      "outputs": [
        {
          "output_type": "execute_result",
          "data": {
            "text/plain": [
              "0"
            ]
          },
          "metadata": {},
          "execution_count": 14
        }
      ]
    },
    {
      "cell_type": "markdown",
      "source": [
        "No dulplicate values."
      ],
      "metadata": {
        "id": "9f8Ss29vkxRz"
      }
    },
    {
      "cell_type": "code",
      "source": [
        "train_df.isnull().sum().values.sum()\n",
        "test_df.isnull().sum().values.sum()"
      ],
      "metadata": {
        "colab": {
          "base_uri": "https://localhost:8080/"
        },
        "id": "n-5e211Kk0Jl",
        "outputId": "e1cf2813-11dd-4407-f7ca-daf1e3d11098"
      },
      "execution_count": 15,
      "outputs": [
        {
          "output_type": "execute_result",
          "data": {
            "text/plain": [
              "0"
            ]
          },
          "metadata": {},
          "execution_count": 15
        }
      ]
    },
    {
      "cell_type": "markdown",
      "source": [
        "No null values"
      ],
      "metadata": {
        "id": "YCgfgJiqk6lF"
      }
    },
    {
      "cell_type": "markdown",
      "source": [
        "We will remove brackets,hypens, and commas in all the features, so that it will be easy to understand and use them in further analysis."
      ],
      "metadata": {
        "id": "70YqtrFIlbfa"
      }
    },
    {
      "cell_type": "code",
      "source": [
        "cols = train_df.columns\n",
        "cols = cols.str.replace('[()]','')\n",
        "cols = cols.str.replace('[-]','')\n",
        "cols = cols.str.replace('[,]','')"
      ],
      "metadata": {
        "id": "gNawfp_1k8nz"
      },
      "execution_count": 16,
      "outputs": []
    },
    {
      "cell_type": "code",
      "source": [
        "train_df.columns = cols\n",
        "test_df.columns = cols"
      ],
      "metadata": {
        "id": "ZPXbCqdinWCT"
      },
      "execution_count": 17,
      "outputs": []
    },
    {
      "cell_type": "markdown",
      "source": [
        "**Visualizing the activities using Box-plot**"
      ],
      "metadata": {
        "id": "Me3K75vWxs5P"
      }
    },
    {
      "cell_type": "code",
      "source": [
        "plt.figure(figsize = (15,6))\n",
        "sns.boxplot(x = 'Activity', y ='tBodyAccMagmean', data = train_df);\n",
        "plt.ylabel('Body Acceleration Magnitude mean')\n",
        "plt.title('Boxplot of tBodyAccMagmean column across all activities')\n",
        "plt.xticks(rotation = 45)\n",
        "plt.show()"
      ],
      "metadata": {
        "colab": {
          "base_uri": "https://localhost:8080/",
          "height": 486
        },
        "id": "6wVm-1rJql4z",
        "outputId": "a0268ebc-ca46-47ed-f7cc-ecec7f224c5b"
      },
      "execution_count": 18,
      "outputs": [
        {
          "output_type": "display_data",
          "data": {
            "image/png": "[encoded data removed]",
            "text/plain": [
              "<Figure size 1080x432 with 1 Axes>"
            ]
          },
          "metadata": {}
        }
      ]
    },
    {
      "cell_type": "code",
      "source": [
        "plt.figure(figsize = (8,4))\n",
        "sns.boxplot(x = 'Activity', y = 'angleXgravityMean', data = train_df)\n",
        "plt.ylabel(\"Angle between X-axis and gravityMean\")\n",
        "plt.title(\"Box plot of angleXgravityMean column across various activities\")\n",
        "plt.xticks(rotation = 40)\n",
        "plt.show()"
      ],
      "metadata": {
        "colab": {
          "base_uri": "https://localhost:8080/",
          "height": 370
        },
        "id": "y6ABShe0k_h1",
        "outputId": "d1482947-9b76-4164-fc82-a054579c0d1d"
      },
      "execution_count": 19,
      "outputs": [
        {
          "output_type": "display_data",
          "data": {
            "image/png": "[encoded data removed]",
            "text/plain": [
              "<Figure size 576x288 with 1 Axes>"
            ]
          },
          "metadata": {}
        }
      ]
    },
    {
      "cell_type": "markdown",
      "source": [
        "From the box-plot it is clear that stationary activities like STANDING,SITTING and LAYING are separate from moving activities like WALKING, WALKING_DOWNSTAIRS and WALKING_UPSTAIRS."
      ],
      "metadata": {
        "id": "F_CYTqBzy0E8"
      }
    },
    {
      "cell_type": "markdown",
      "source": [
        "**Perform Label encoding on both training and testing data**"
      ],
      "metadata": {
        "id": "R9t9fBev5i8-"
      }
    },
    {
      "cell_type": "code",
      "source": [
        "from sklearn.preprocessing import LabelEncoder\n",
        "le = LabelEncoder()\n",
        "train_df['Activity'] = le.fit_transform(train_df['Activity'])\n",
        "train_df['Activity'].value_counts()"
      ],
      "metadata": {
        "colab": {
          "base_uri": "https://localhost:8080/"
        },
        "id": "lY30vF1f40Ov",
        "outputId": "5b76b0bc-d043-49e8-85d8-8f0de109ef10"
      },
      "execution_count": 20,
      "outputs": [
        {
          "output_type": "execute_result",
          "data": {
            "text/plain": [
              "0    1407\n",
              "2    1374\n",
              "1    1286\n",
              "3    1226\n",
              "5    1073\n",
              "4     986\n",
              "Name: Activity, dtype: int64"
            ]
          },
          "metadata": {},
          "execution_count": 20
        }
      ]
    },
    {
      "cell_type": "code",
      "source": [
        "from sklearn.preprocessing import LabelEncoder\n",
        "le = LabelEncoder()\n",
        "test_df['Activity'] = le.fit_transform(test_df['Activity'])\n",
        "test_df['Activity'].value_counts()"
      ],
      "metadata": {
        "colab": {
          "base_uri": "https://localhost:8080/"
        },
        "id": "XFGhsQYW5roe",
        "outputId": "276f164c-5a0e-49e8-b763-2c7490871f34"
      },
      "execution_count": 21,
      "outputs": [
        {
          "output_type": "execute_result",
          "data": {
            "text/plain": [
              "0    537\n",
              "2    532\n",
              "3    496\n",
              "1    491\n",
              "5    471\n",
              "4    420\n",
              "Name: Activity, dtype: int64"
            ]
          },
          "metadata": {},
          "execution_count": 21
        }
      ]
    },
    {
      "cell_type": "markdown",
      "source": [
        "**Splitting the data**"
      ],
      "metadata": {
        "id": "U0PMK7DT2mcl"
      }
    },
    {
      "cell_type": "code",
      "source": [
        "X_train = train_df.drop(['subject','Activity'], axis = 1)\n",
        "y_train = train_df.Activity\n",
        "X_test = test_df.drop(['subject','Activity'], axis = 1)\n",
        "y_test = test_df.Activity"
      ],
      "metadata": {
        "id": "9oS5JVF52uEX"
      },
      "execution_count": 22,
      "outputs": []
    },
    {
      "cell_type": "code",
      "source": [
        "print(\"Training data shape\", X_train.shape)\n",
        "print(\"Testing data shape\", X_test.shape)\n",
        "print(\"y_train matrix shape\", y_train.shape)\n",
        "print(\"y_test matrix shape\", y_test.shape)"
      ],
      "metadata": {
        "colab": {
          "base_uri": "https://localhost:8080/"
        },
        "id": "I8Y-JFTg3QJk",
        "outputId": "0343feec-9c1c-41d7-8009-6ab7a158c930"
      },
      "execution_count": 23,
      "outputs": [
        {
          "output_type": "stream",
          "name": "stdout",
          "text": [
            "Training data shape (7352, 561)\n",
            "Testing data shape (2947, 561)\n",
            "y_train matrix shape (7352,)\n",
            "y_test matrix shape (2947,)\n"
          ]
        }
      ]
    },
    {
      "cell_type": "markdown",
      "source": [
        "**Logistic Regression**"
      ],
      "metadata": {
        "id": "tFjWPd85AEcx"
      }
    },
    {
      "cell_type": "code",
      "source": [
        "from sklearn.linear_model import LogisticRegression\n",
        "logistic_model = LogisticRegression(penalty = 'l2', C = 1, random_state = 0,max_iter=6000)\n",
        "logistic_model.fit(X_train,y_train)\n",
        "logistic_model.predict(X_test)"
      ],
      "metadata": {
        "colab": {
          "base_uri": "https://localhost:8080/"
        },
        "id": "nHracUV73sVe",
        "outputId": "84d42c0b-ba75-4b0e-a216-772d1637b928"
      },
      "execution_count": 24,
      "outputs": [
        {
          "output_type": "execute_result",
          "data": {
            "text/plain": [
              "array([2, 2, 2, ..., 5, 5, 5])"
            ]
          },
          "metadata": {},
          "execution_count": 24
        }
      ]
    },
    {
      "cell_type": "code",
      "source": [
        "from sklearn.metrics import confusion_matrix\n",
        "logistic_pred = logistic_model.predict(X_test)\n",
        "conf_mat = confusion_matrix(y_test.values, logistic_pred)\n",
        "conf_mat"
      ],
      "metadata": {
        "colab": {
          "base_uri": "https://localhost:8080/"
        },
        "id": "b7PdJEKO-TUb",
        "outputId": "b5639865-77ca-41b0-bbd9-a2e057e07be9"
      },
      "execution_count": null,
      "outputs": [
        {
          "output_type": "execute_result",
          "data": {
            "text/plain": [
              "array([[537,   0,   0,   0,   0,   0],\n",
              "       [  0, 432,  56,   0,   0,   3],\n",
              "       [  0,  11, 520,   1,   0,   0],\n",
              "       [  0,   0,   0, 493,   3,   0],\n",
              "       [  0,   0,   0,   3, 406,  11],\n",
              "       [  0,   0,   0,  25,   1, 445]])"
            ]
          },
          "metadata": {},
          "execution_count": 25
        }
      ]
    },
    {
      "cell_type": "code",
      "source": [
        "from sklearn.metrics import accuracy_score\n",
        "print('accuracy of the data:', accuracy_score(y_test, logistic_pred))"
      ],
      "metadata": {
        "colab": {
          "base_uri": "https://localhost:8080/"
        },
        "id": "IXhr9cQsAV1c",
        "outputId": "425b3c8d-1f4b-47da-99f9-66a07417bb6d"
      },
      "execution_count": null,
      "outputs": [
        {
          "output_type": "stream",
          "name": "stdout",
          "text": [
            "accuracy of the data: 0.9613165931455717\n"
          ]
        }
      ]
    },
    {
      "cell_type": "code",
      "source": [
        "from operator import truediv\n",
        "import numpy as np\n",
        "\n",
        "tp = np.diag(conf_mat)\n",
        "prec = list(map(truediv, tp, np.sum(conf_mat, axis=0)))\n",
        "rec = list(map(truediv, tp, np.sum(conf_mat, axis=1)))\n",
        "print ('Precision: {}\\nRecall: {}'.format(prec, rec))"
      ],
      "metadata": {
        "colab": {
          "base_uri": "https://localhost:8080/"
        },
        "id": "uOK6Nb2L_rXu",
        "outputId": "d8b8d5a2-6e17-4960-9bb8-9ea96405a49d"
      },
      "execution_count": null,
      "outputs": [
        {
          "output_type": "stream",
          "name": "stdout",
          "text": [
            "Precision: [1.0, 0.9751693002257337, 0.9027777777777778, 0.9444444444444444, 0.9902439024390244, 0.9694989106753813]\n",
            "Recall: [1.0, 0.879837067209776, 0.9774436090225563, 0.9939516129032258, 0.9666666666666667, 0.9447983014861996]\n"
          ]
        }
      ]
    },
    {
      "cell_type": "markdown",
      "source": [
        "**KNN**"
      ],
      "metadata": {
        "id": "0HA8XwzHBVLz"
      }
    },
    {
      "cell_type": "code",
      "source": [
        "from sklearn.neighbors import KNeighborsClassifier\n",
        "knn_model = KNeighborsClassifier(n_neighbors=10)\n",
        "knn_model.fit(X_train,y_train)\n",
        "knn_model.predict(X_test)"
      ],
      "metadata": {
        "colab": {
          "base_uri": "https://localhost:8080/"
        },
        "id": "vf8kQntQBuU0",
        "outputId": "7d0c31a3-c97e-4ceb-fbdc-b16a4b52ef2c"
      },
      "execution_count": null,
      "outputs": [
        {
          "output_type": "execute_result",
          "data": {
            "text/plain": [
              "array([2, 2, 2, ..., 5, 5, 3])"
            ]
          },
          "metadata": {},
          "execution_count": 28
        }
      ]
    },
    {
      "cell_type": "code",
      "source": [
        "from sklearn.metrics import confusion_matrix\n",
        "knn_pred = knn_model.predict(X_test)\n",
        "knn_conf_mat = confusion_matrix(y_test.values, knn_pred)\n",
        "knn_conf_mat"
      ],
      "metadata": {
        "colab": {
          "base_uri": "https://localhost:8080/"
        },
        "id": "RcCF2cJwB_J5",
        "outputId": "3b46dc47-cf53-465c-b501-961249565f51"
      },
      "execution_count": null,
      "outputs": [
        {
          "output_type": "execute_result",
          "data": {
            "text/plain": [
              "array([[534,   2,   1,   0,   0,   0],\n",
              "       [  0, 409,  78,   0,   0,   4],\n",
              "       [  0,  47, 485,   0,   0,   0],\n",
              "       [  0,   0,   0, 486,  10,   0],\n",
              "       [  0,   0,   0,  51, 331,  38],\n",
              "       [  0,   0,   0,  36,   8, 427]])"
            ]
          },
          "metadata": {},
          "execution_count": 29
        }
      ]
    },
    {
      "cell_type": "code",
      "source": [
        "from sklearn.metrics import accuracy_score\n",
        "print('accuracy of the data:', accuracy_score(y_test, knn_pred))"
      ],
      "metadata": {
        "colab": {
          "base_uri": "https://localhost:8080/"
        },
        "id": "cQyqLqcqCSTu",
        "outputId": "e410cfd6-3435-449a-faa5-acb5bd05f9fc"
      },
      "execution_count": null,
      "outputs": [
        {
          "output_type": "stream",
          "name": "stdout",
          "text": [
            "accuracy of the data: 0.9066847641669494\n"
          ]
        }
      ]
    },
    {
      "cell_type": "code",
      "source": [
        "from operator import truediv\n",
        "import numpy as np\n",
        "\n",
        "tp = np.diag(knn_conf_mat)\n",
        "prec = list(map(truediv, tp, np.sum(knn_conf_mat, axis=0)))\n",
        "rec = list(map(truediv, tp, np.sum(knn_conf_mat, axis=1)))\n",
        "print ('Precision: {}\\nRecall: {}'.format(prec, rec))"
      ],
      "metadata": {
        "colab": {
          "base_uri": "https://localhost:8080/"
        },
        "id": "PsbOytOdCdMP",
        "outputId": "23f4ea4a-af07-4732-dcc2-b4c8becea7c0"
      },
      "execution_count": null,
      "outputs": [
        {
          "output_type": "stream",
          "name": "stdout",
          "text": [
            "Precision: [1.0, 0.8930131004366813, 0.8599290780141844, 0.8481675392670157, 0.9484240687679083, 0.9104477611940298]\n",
            "Recall: [0.994413407821229, 0.8329938900203666, 0.9116541353383458, 0.9798387096774194, 0.7880952380952381, 0.9065817409766455]\n"
          ]
        }
      ]
    },
    {
      "cell_type": "markdown",
      "source": [
        "**Support Vector Machine**"
      ],
      "metadata": {
        "id": "9spP7FkTCi7G"
      }
    },
    {
      "cell_type": "code",
      "source": [
        "from sklearn.svm import SVC\n",
        "svm_model = SVC(C = 10, gamma = 0.1)\n",
        "svm_model.fit(X_train,y_train)\n",
        "svm_model.predict(X_test)"
      ],
      "metadata": {
        "colab": {
          "base_uri": "https://localhost:8080/"
        },
        "id": "XiorIrRPCpk_",
        "outputId": "30dc3c1d-917a-459d-f5bb-8c13fd39a030"
      },
      "execution_count": null,
      "outputs": [
        {
          "output_type": "execute_result",
          "data": {
            "text/plain": [
              "array([2, 2, 2, ..., 5, 5, 5])"
            ]
          },
          "metadata": {},
          "execution_count": 32
        }
      ]
    },
    {
      "cell_type": "code",
      "source": [
        "from sklearn.metrics import confusion_matrix\n",
        "svm_pred = svm_model.predict(X_test)\n",
        "svm_conf_mat = confusion_matrix(y_test.values, svm_pred)\n",
        "svm_conf_mat"
      ],
      "metadata": {
        "colab": {
          "base_uri": "https://localhost:8080/"
        },
        "id": "BW_44aX_CtoI",
        "outputId": "5865625a-9c8d-44ed-88a5-c41842ef2237"
      },
      "execution_count": null,
      "outputs": [
        {
          "output_type": "execute_result",
          "data": {
            "text/plain": [
              "array([[534,   0,   0,   0,   3,   0],\n",
              "       [  1, 452,  31,   0,   7,   0],\n",
              "       [  0,  14, 515,   0,   3,   0],\n",
              "       [  0,   0,   0, 468,  28,   0],\n",
              "       [  0,   0,   0,   6, 388,  26],\n",
              "       [  0,   0,   0,   6,   5, 460]])"
            ]
          },
          "metadata": {},
          "execution_count": 33
        }
      ]
    },
    {
      "cell_type": "code",
      "source": [
        "from sklearn.metrics import accuracy_score\n",
        "print('accuracy of the data:', accuracy_score(y_test, svm_pred))"
      ],
      "metadata": {
        "colab": {
          "base_uri": "https://localhost:8080/"
        },
        "id": "JmKafqPqC-ow",
        "outputId": "639b9d22-9210-4e20-d13d-51d2bf70d53a"
      },
      "execution_count": null,
      "outputs": [
        {
          "output_type": "stream",
          "name": "stdout",
          "text": [
            "accuracy of the data: 0.9558873430607397\n"
          ]
        }
      ]
    },
    {
      "cell_type": "code",
      "source": [
        "from operator import truediv\n",
        "import numpy as np\n",
        "\n",
        "tp = np.diag(svm_conf_mat)\n",
        "prec = list(map(truediv, tp, np.sum(svm_conf_mat, axis=0)))\n",
        "rec = list(map(truediv, tp, np.sum(svm_conf_mat, axis=1)))\n",
        "print ('Precision: {}\\nRecall: {}'.format(prec, rec))"
      ],
      "metadata": {
        "colab": {
          "base_uri": "https://localhost:8080/"
        },
        "id": "0jCXK4CTDFDM",
        "outputId": "bc11f5a0-c54c-4b63-ea19-2fc2309d430d"
      },
      "execution_count": null,
      "outputs": [
        {
          "output_type": "stream",
          "name": "stdout",
          "text": [
            "Precision: [0.9981308411214953, 0.9699570815450643, 0.9432234432234432, 0.975, 0.8940092165898618, 0.9465020576131687]\n",
            "Recall: [0.994413407821229, 0.9205702647657841, 0.9680451127819549, 0.9435483870967742, 0.9238095238095239, 0.9766454352441614]\n"
          ]
        }
      ]
    },
    {
      "cell_type": "markdown",
      "source": [
        "**Random Forest**"
      ],
      "metadata": {
        "id": "WbKydh69DQY9"
      }
    },
    {
      "cell_type": "code",
      "source": [
        "from sklearn.ensemble import RandomForestClassifier\n",
        "random_forest_model = RandomForestClassifier(random_state=42)\n",
        "random_forest_model.fit(X_train,y_train)\n",
        "random_forest_model.predict(X_test)"
      ],
      "metadata": {
        "colab": {
          "base_uri": "https://localhost:8080/"
        },
        "id": "lOaDfENnDTPQ",
        "outputId": "eafee0c8-346b-4b2f-d8b3-d70e27aee915"
      },
      "execution_count": null,
      "outputs": [
        {
          "output_type": "execute_result",
          "data": {
            "text/plain": [
              "array([2, 2, 2, ..., 5, 5, 3])"
            ]
          },
          "metadata": {},
          "execution_count": 36
        }
      ]
    },
    {
      "cell_type": "code",
      "source": [
        "from sklearn.metrics import confusion_matrix\n",
        "rf_pred = random_forest_model.predict(X_test)\n",
        "rf_conf_mat = confusion_matrix(y_test.values, rf_pred)\n",
        "rf_conf_mat"
      ],
      "metadata": {
        "colab": {
          "base_uri": "https://localhost:8080/"
        },
        "id": "foXacqh7DXhs",
        "outputId": "c2bbdbdd-8315-45ce-dcd9-0fdb28991708"
      },
      "execution_count": null,
      "outputs": [
        {
          "output_type": "execute_result",
          "data": {
            "text/plain": [
              "array([[537,   0,   0,   0,   0,   0],\n",
              "       [  0, 435,  56,   0,   0,   0],\n",
              "       [  0,  41, 491,   0,   0,   0],\n",
              "       [  0,   0,   0, 482,   6,   8],\n",
              "       [  0,   0,   0,  15, 365,  40],\n",
              "       [  0,   0,   0,  46,   6, 419]])"
            ]
          },
          "metadata": {},
          "execution_count": 37
        }
      ]
    },
    {
      "cell_type": "code",
      "source": [
        "from sklearn.metrics import accuracy_score\n",
        "print('accuracy of the data:', accuracy_score(y_test, rf_pred))"
      ],
      "metadata": {
        "colab": {
          "base_uri": "https://localhost:8080/"
        },
        "id": "M3mY5b93DmMQ",
        "outputId": "b72d1588-cc6c-4f97-d7ee-d44217cbb6ca"
      },
      "execution_count": null,
      "outputs": [
        {
          "output_type": "stream",
          "name": "stdout",
          "text": [
            "accuracy of the data: 0.9260264675941635\n"
          ]
        }
      ]
    },
    {
      "cell_type": "code",
      "source": [
        "from operator import truediv\n",
        "import numpy as np\n",
        "\n",
        "tp = np.diag(rf_conf_mat)\n",
        "prec = list(map(truediv, tp, np.sum(rf_conf_mat, axis=0)))\n",
        "rec = list(map(truediv, tp, np.sum(rf_conf_mat, axis=1)))\n",
        "print ('Precision: {}\\nRecall: {}'.format(prec, rec))"
      ],
      "metadata": {
        "colab": {
          "base_uri": "https://localhost:8080/"
        },
        "id": "lqkY7mH1Do7X",
        "outputId": "2c04fd0e-1cec-43f1-fd1b-f100f2d2a6aa"
      },
      "execution_count": null,
      "outputs": [
        {
          "output_type": "stream",
          "name": "stdout",
          "text": [
            "Precision: [1.0, 0.9138655462184874, 0.8976234003656307, 0.8876611418047882, 0.9681697612732095, 0.8972162740899358]\n",
            "Recall: [1.0, 0.8859470468431772, 0.9229323308270677, 0.9717741935483871, 0.8690476190476191, 0.8895966029723992]\n"
          ]
        }
      ]
    },
    {
      "cell_type": "markdown",
      "source": [
        "**Decision Trees**"
      ],
      "metadata": {
        "id": "rpwC2lImLjlX"
      }
    },
    {
      "cell_type": "code",
      "source": [
        "from sklearn.tree import DecisionTreeClassifier\n",
        "decision_tree_model = DecisionTreeClassifier(random_state=42)\n",
        "decision_tree_model.fit(X_train,y_train)\n",
        "decision_tree_model.predict(X_test)"
      ],
      "metadata": {
        "colab": {
          "base_uri": "https://localhost:8080/"
        },
        "id": "UhZcXCm9Lnqw",
        "outputId": "555955be-cab7-4447-c509-ccdff37b638e"
      },
      "execution_count": null,
      "outputs": [
        {
          "output_type": "execute_result",
          "data": {
            "text/plain": [
              "array([2, 2, 2, ..., 5, 3, 5])"
            ]
          },
          "metadata": {},
          "execution_count": 40
        }
      ]
    },
    {
      "cell_type": "code",
      "source": [
        "from sklearn.metrics import confusion_matrix\n",
        "tree_pred = decision_tree_model.predict(X_test)\n",
        "tree_conf_mat = confusion_matrix(y_test.values, tree_pred)\n",
        "tree_conf_mat"
      ],
      "metadata": {
        "colab": {
          "base_uri": "https://localhost:8080/"
        },
        "id": "y3pneNj2Ma3X",
        "outputId": "d9ed928f-7890-4f47-d9c7-e67136cde143"
      },
      "execution_count": null,
      "outputs": [
        {
          "output_type": "execute_result",
          "data": {
            "text/plain": [
              "array([[537,   0,   0,   0,   0,   0],\n",
              "       [  0, 374, 117,   0,   0,   0],\n",
              "       [  0,  75, 457,   0,   0,   0],\n",
              "       [  0,   0,   0, 456,  16,  24],\n",
              "       [  0,   0,   0,  19, 348,  53],\n",
              "       [  0,   0,   0,  74,  28, 369]])"
            ]
          },
          "metadata": {},
          "execution_count": 41
        }
      ]
    },
    {
      "cell_type": "code",
      "source": [
        "from sklearn.metrics import accuracy_score\n",
        "print('accuracy of the data:', accuracy_score(y_test, tree_pred))"
      ],
      "metadata": {
        "colab": {
          "base_uri": "https://localhost:8080/"
        },
        "id": "NNTzmZu0MXQb",
        "outputId": "cb11b40a-5adf-4398-bedc-b254933287f9"
      },
      "execution_count": null,
      "outputs": [
        {
          "output_type": "stream",
          "name": "stdout",
          "text": [
            "accuracy of the data: 0.8622327790973872\n"
          ]
        }
      ]
    },
    {
      "cell_type": "code",
      "source": [
        "from operator import truediv\n",
        "import numpy as np\n",
        "\n",
        "tp = np.diag(tree_conf_mat)\n",
        "prec = list(map(truediv, tp, np.sum(tree_conf_mat, axis=0)))\n",
        "rec = list(map(truediv, tp, np.sum(tree_conf_mat, axis=1)))\n",
        "print ('Precision: {}\\nRecall: {}'.format(prec, rec))"
      ],
      "metadata": {
        "colab": {
          "base_uri": "https://localhost:8080/"
        },
        "id": "Nz5BaVcwMwXc",
        "outputId": "81ab6e30-320c-437f-cfc8-488660c14fbd"
      },
      "execution_count": null,
      "outputs": [
        {
          "output_type": "stream",
          "name": "stdout",
          "text": [
            "Precision: [1.0, 0.8329621380846325, 0.7961672473867596, 0.8306010928961749, 0.8877551020408163, 0.827354260089686]\n",
            "Recall: [1.0, 0.7617107942973523, 0.8590225563909775, 0.9193548387096774, 0.8285714285714286, 0.7834394904458599]\n"
          ]
        }
      ]
    },
    {
      "cell_type": "markdown",
      "source": [
        "**Neural Network**"
      ],
      "metadata": {
        "id": "hjCg84IzD32l"
      }
    },
    {
      "cell_type": "code",
      "source": [
        "def build_neuralnet_classifier():\n",
        "  model = Sequential()\n",
        "  model.add(Dense(units=56,kernel_initializer='normal',activation='sigmoid',input_dim=X_train.shape[1]))\n",
        "  model.add(Dropout(0.2))\n",
        "  model.add(Dense(units=6,kernel_initializer='normal',activation='softmax'))\n",
        "  model.compile(optimizer='adam',loss='sparse_categorical_crossentropy',metrics=['accuracy'])\n",
        "  return model\n",
        "\n",
        "nn_model = build_neuralnet_classifier()\n",
        "nn_model.fit(X_train, y_train, batch_size = 56, epochs= 50,validation_data = (X_test,y_test))"
      ],
      "metadata": {
        "colab": {
          "base_uri": "https://localhost:8080/"
        },
        "id": "nAFl5_dPD2No",
        "outputId": "37f9be59-d1fe-4352-8830-8a92a343fb90"
      },
      "execution_count": null,
      "outputs": [
        {
          "output_type": "stream",
          "name": "stdout",
          "text": [
            "Epoch 1/50\n",
            "132/132 [==============================] - 1s 6ms/step - loss: 1.2321 - accuracy: 0.5532 - val_loss: 0.9125 - val_accuracy: 0.7489\n",
            "Epoch 2/50\n",
            "132/132 [==============================] - 0s 3ms/step - loss: 0.7153 - accuracy: 0.8048 - val_loss: 0.5638 - val_accuracy: 0.8561\n",
            "Epoch 3/50\n",
            "132/132 [==============================] - 0s 3ms/step - loss: 0.4606 - accuracy: 0.8750 - val_loss: 0.4132 - val_accuracy: 0.8595\n",
            "Epoch 4/50\n",
            "132/132 [==============================] - 0s 4ms/step - loss: 0.3500 - accuracy: 0.9021 - val_loss: 0.3302 - val_accuracy: 0.9158\n",
            "Epoch 5/50\n",
            "132/132 [==============================] - 0s 4ms/step - loss: 0.2788 - accuracy: 0.9172 - val_loss: 0.2709 - val_accuracy: 0.9240\n",
            "Epoch 6/50\n",
            "132/132 [==============================] - 0s 3ms/step - loss: 0.2286 - accuracy: 0.9361 - val_loss: 0.2506 - val_accuracy: 0.9169\n",
            "Epoch 7/50\n",
            "132/132 [==============================] - 0s 3ms/step - loss: 0.1904 - accuracy: 0.9430 - val_loss: 0.2000 - val_accuracy: 0.9447\n",
            "Epoch 8/50\n",
            "132/132 [==============================] - 0s 3ms/step - loss: 0.1686 - accuracy: 0.9476 - val_loss: 0.1868 - val_accuracy: 0.9399\n",
            "Epoch 9/50\n",
            "132/132 [==============================] - 0s 3ms/step - loss: 0.1501 - accuracy: 0.9531 - val_loss: 0.1805 - val_accuracy: 0.9376\n",
            "Epoch 10/50\n",
            "132/132 [==============================] - 0s 3ms/step - loss: 0.1339 - accuracy: 0.9592 - val_loss: 0.1684 - val_accuracy: 0.9365\n",
            "Epoch 11/50\n",
            "132/132 [==============================] - 0s 3ms/step - loss: 0.1224 - accuracy: 0.9615 - val_loss: 0.1601 - val_accuracy: 0.9393\n",
            "Epoch 12/50\n",
            "132/132 [==============================] - 0s 4ms/step - loss: 0.1149 - accuracy: 0.9630 - val_loss: 0.1608 - val_accuracy: 0.9444\n",
            "Epoch 13/50\n",
            "132/132 [==============================] - 0s 4ms/step - loss: 0.1026 - accuracy: 0.9675 - val_loss: 0.1575 - val_accuracy: 0.9420\n",
            "Epoch 14/50\n",
            "132/132 [==============================] - 0s 4ms/step - loss: 0.0989 - accuracy: 0.9668 - val_loss: 0.1489 - val_accuracy: 0.9447\n",
            "Epoch 15/50\n",
            "132/132 [==============================] - 0s 3ms/step - loss: 0.0858 - accuracy: 0.9732 - val_loss: 0.1378 - val_accuracy: 0.9488\n",
            "Epoch 16/50\n",
            "132/132 [==============================] - 0s 3ms/step - loss: 0.0862 - accuracy: 0.9714 - val_loss: 0.1320 - val_accuracy: 0.9498\n",
            "Epoch 17/50\n",
            "132/132 [==============================] - 0s 3ms/step - loss: 0.0838 - accuracy: 0.9699 - val_loss: 0.1395 - val_accuracy: 0.9460\n",
            "Epoch 18/50\n",
            "132/132 [==============================] - 0s 3ms/step - loss: 0.0780 - accuracy: 0.9739 - val_loss: 0.1452 - val_accuracy: 0.9427\n",
            "Epoch 19/50\n",
            "132/132 [==============================] - 0s 4ms/step - loss: 0.0781 - accuracy: 0.9732 - val_loss: 0.1432 - val_accuracy: 0.9450\n",
            "Epoch 20/50\n",
            "132/132 [==============================] - 0s 3ms/step - loss: 0.0712 - accuracy: 0.9752 - val_loss: 0.1331 - val_accuracy: 0.9491\n",
            "Epoch 21/50\n",
            "132/132 [==============================] - 0s 3ms/step - loss: 0.0702 - accuracy: 0.9757 - val_loss: 0.1515 - val_accuracy: 0.9410\n",
            "Epoch 22/50\n",
            "132/132 [==============================] - 0s 3ms/step - loss: 0.0651 - accuracy: 0.9782 - val_loss: 0.1419 - val_accuracy: 0.9460\n",
            "Epoch 23/50\n",
            "132/132 [==============================] - 0s 3ms/step - loss: 0.0641 - accuracy: 0.9781 - val_loss: 0.1484 - val_accuracy: 0.9423\n",
            "Epoch 24/50\n",
            "132/132 [==============================] - 0s 3ms/step - loss: 0.0638 - accuracy: 0.9770 - val_loss: 0.1381 - val_accuracy: 0.9477\n",
            "Epoch 25/50\n",
            "132/132 [==============================] - 0s 4ms/step - loss: 0.0589 - accuracy: 0.9795 - val_loss: 0.1493 - val_accuracy: 0.9433\n",
            "Epoch 26/50\n",
            "132/132 [==============================] - 0s 3ms/step - loss: 0.0599 - accuracy: 0.9778 - val_loss: 0.1551 - val_accuracy: 0.9413\n",
            "Epoch 27/50\n",
            "132/132 [==============================] - 0s 3ms/step - loss: 0.0591 - accuracy: 0.9792 - val_loss: 0.1456 - val_accuracy: 0.9457\n",
            "Epoch 28/50\n",
            "132/132 [==============================] - 0s 3ms/step - loss: 0.0559 - accuracy: 0.9808 - val_loss: 0.1413 - val_accuracy: 0.9488\n",
            "Epoch 29/50\n",
            "132/132 [==============================] - 0s 4ms/step - loss: 0.0520 - accuracy: 0.9818 - val_loss: 0.1360 - val_accuracy: 0.9467\n",
            "Epoch 30/50\n",
            "132/132 [==============================] - 0s 3ms/step - loss: 0.0540 - accuracy: 0.9807 - val_loss: 0.1583 - val_accuracy: 0.9420\n",
            "Epoch 31/50\n",
            "132/132 [==============================] - 0s 4ms/step - loss: 0.0506 - accuracy: 0.9825 - val_loss: 0.1373 - val_accuracy: 0.9484\n",
            "Epoch 32/50\n",
            "132/132 [==============================] - 0s 3ms/step - loss: 0.0499 - accuracy: 0.9823 - val_loss: 0.1653 - val_accuracy: 0.9437\n",
            "Epoch 33/50\n",
            "132/132 [==============================] - 0s 4ms/step - loss: 0.0489 - accuracy: 0.9815 - val_loss: 0.1473 - val_accuracy: 0.9450\n",
            "Epoch 34/50\n",
            "132/132 [==============================] - 0s 3ms/step - loss: 0.0480 - accuracy: 0.9818 - val_loss: 0.1548 - val_accuracy: 0.9423\n",
            "Epoch 35/50\n",
            "132/132 [==============================] - 0s 4ms/step - loss: 0.0469 - accuracy: 0.9830 - val_loss: 0.1502 - val_accuracy: 0.9457\n",
            "Epoch 36/50\n",
            "132/132 [==============================] - 0s 3ms/step - loss: 0.0506 - accuracy: 0.9816 - val_loss: 0.1443 - val_accuracy: 0.9477\n",
            "Epoch 37/50\n",
            "132/132 [==============================] - 0s 4ms/step - loss: 0.0447 - accuracy: 0.9839 - val_loss: 0.1413 - val_accuracy: 0.9464\n",
            "Epoch 38/50\n",
            "132/132 [==============================] - 0s 3ms/step - loss: 0.0448 - accuracy: 0.9830 - val_loss: 0.1390 - val_accuracy: 0.9481\n",
            "Epoch 39/50\n",
            "132/132 [==============================] - 0s 4ms/step - loss: 0.0463 - accuracy: 0.9830 - val_loss: 0.1437 - val_accuracy: 0.9477\n",
            "Epoch 40/50\n",
            "132/132 [==============================] - 0s 3ms/step - loss: 0.0439 - accuracy: 0.9846 - val_loss: 0.1831 - val_accuracy: 0.9399\n",
            "Epoch 41/50\n",
            "132/132 [==============================] - 0s 3ms/step - loss: 0.0458 - accuracy: 0.9826 - val_loss: 0.1607 - val_accuracy: 0.9447\n",
            "Epoch 42/50\n",
            "132/132 [==============================] - 0s 3ms/step - loss: 0.0420 - accuracy: 0.9833 - val_loss: 0.1481 - val_accuracy: 0.9481\n",
            "Epoch 43/50\n",
            "132/132 [==============================] - 0s 4ms/step - loss: 0.0415 - accuracy: 0.9859 - val_loss: 0.1799 - val_accuracy: 0.9433\n",
            "Epoch 44/50\n",
            "132/132 [==============================] - 0s 3ms/step - loss: 0.0412 - accuracy: 0.9846 - val_loss: 0.1764 - val_accuracy: 0.9406\n",
            "Epoch 45/50\n",
            "132/132 [==============================] - 0s 3ms/step - loss: 0.0414 - accuracy: 0.9854 - val_loss: 0.1503 - val_accuracy: 0.9484\n",
            "Epoch 46/50\n",
            "132/132 [==============================] - 0s 3ms/step - loss: 0.0414 - accuracy: 0.9839 - val_loss: 0.1484 - val_accuracy: 0.9501\n",
            "Epoch 47/50\n",
            "132/132 [==============================] - 0s 3ms/step - loss: 0.0399 - accuracy: 0.9850 - val_loss: 0.1439 - val_accuracy: 0.9484\n",
            "Epoch 48/50\n",
            "132/132 [==============================] - 0s 3ms/step - loss: 0.0391 - accuracy: 0.9857 - val_loss: 0.1660 - val_accuracy: 0.9447\n",
            "Epoch 49/50\n",
            "132/132 [==============================] - 0s 3ms/step - loss: 0.0368 - accuracy: 0.9864 - val_loss: 0.1449 - val_accuracy: 0.9525\n",
            "Epoch 50/50\n",
            "132/132 [==============================] - 0s 3ms/step - loss: 0.0377 - accuracy: 0.9872 - val_loss: 0.1432 - val_accuracy: 0.9481\n"
          ]
        },
        {
          "output_type": "execute_result",
          "data": {
            "text/plain": [
              "<keras.callbacks.History at 0x7fb4121c7d10>"
            ]
          },
          "metadata": {},
          "execution_count": 44
        }
      ]
    },
    {
      "cell_type": "code",
      "source": [
        "nn_predict = (nn_model.predict(X_test) > 0.5).astype(int)\n",
        "nn_predict"
      ],
      "metadata": {
        "colab": {
          "base_uri": "https://localhost:8080/"
        },
        "id": "7kPSpnjbHTy_",
        "outputId": "4f6d8cf5-d50f-46f6-880a-2afa9a343803"
      },
      "execution_count": null,
      "outputs": [
        {
          "output_type": "execute_result",
          "data": {
            "text/plain": [
              "array([[0, 0, 1, 0, 0, 0],\n",
              "       [0, 0, 1, 0, 0, 0],\n",
              "       [0, 0, 1, 0, 0, 0],\n",
              "       ...,\n",
              "       [0, 0, 0, 0, 0, 1],\n",
              "       [0, 0, 0, 0, 0, 1],\n",
              "       [0, 0, 0, 0, 0, 1]])"
            ]
          },
          "metadata": {},
          "execution_count": 45
        }
      ]
    },
    {
      "cell_type": "code",
      "source": [
        "from sklearn.metrics import confusion_matrix\n",
        "nn_conf_mat = confusion_matrix(y_test.values, np.argmax(nn_predict,axis=1))\n",
        "nn_conf_mat"
      ],
      "metadata": {
        "colab": {
          "base_uri": "https://localhost:8080/"
        },
        "id": "UJjCdjmYJ-bK",
        "outputId": "bbd2a3d1-0c5a-4f66-91b4-ba25c7704984"
      },
      "execution_count": null,
      "outputs": [
        {
          "output_type": "execute_result",
          "data": {
            "text/plain": [
              "array([[524,   0,  13,   0,   0,   0],\n",
              "       [  2, 446,  41,   0,   0,   2],\n",
              "       [  0,  40, 492,   0,   0,   0],\n",
              "       [  1,   0,   0, 487,   7,   1],\n",
              "       [  0,   0,   0,   3, 401,  16],\n",
              "       [  2,   0,   0,  24,   3, 442]])"
            ]
          },
          "metadata": {},
          "execution_count": 46
        }
      ]
    },
    {
      "cell_type": "code",
      "source": [
        "from sklearn.metrics import accuracy_score\n",
        "print('accuracy of the data:', accuracy_score(y_test, np.argmax(nn_predict,axis=1)))"
      ],
      "metadata": {
        "colab": {
          "base_uri": "https://localhost:8080/"
        },
        "id": "ENzNyib9InXl",
        "outputId": "d54515cb-2c9b-4a87-d032-ccde29e7650c"
      },
      "execution_count": null,
      "outputs": [
        {
          "output_type": "stream",
          "name": "stdout",
          "text": [
            "accuracy of the data: 0.9474041398031897\n"
          ]
        }
      ]
    },
    {
      "cell_type": "code",
      "source": [
        "from operator import truediv\n",
        "import numpy as np\n",
        "\n",
        "tp = np.diag(rf_conf_mat)\n",
        "prec = list(map(truediv, tp, np.sum(rf_conf_mat, axis=0)))\n",
        "rec = list(map(truediv, tp, np.sum(rf_conf_mat, axis=1)))\n",
        "print ('Precision: {}\\nRecall: {}'.format(prec, rec))"
      ],
      "metadata": {
        "colab": {
          "base_uri": "https://localhost:8080/"
        },
        "id": "_rH5E_VrKPRV",
        "outputId": "3ee8a5e7-91d3-4258-c3bd-19deeef1d2ac"
      },
      "execution_count": null,
      "outputs": [
        {
          "output_type": "stream",
          "name": "stdout",
          "text": [
            "Precision: [1.0, 0.9138655462184874, 0.8976234003656307, 0.8876611418047882, 0.9681697612732095, 0.8972162740899358]\n",
            "Recall: [1.0, 0.8859470468431772, 0.9229323308270677, 0.9717741935483871, 0.8690476190476191, 0.8895966029723992]\n"
          ]
        }
      ]
    },
    {
      "cell_type": "markdown",
      "source": [
        "**Feature importance**"
      ],
      "metadata": {
        "id": "xhOiWBjNTIZo"
      }
    },
    {
      "cell_type": "code",
      "source": [
        "random_forest = RandomForestClassifier(random_state=60)\n",
        "random_forest.fit(X_train,y_train)\n",
        "random_forest_importance = random_forest.feature_importances_\n",
        "print(random_forest_importance)"
      ],
      "metadata": {
        "colab": {
          "base_uri": "https://localhost:8080/"
        },
        "id": "59R-pre4Hr1X",
        "outputId": "ce29f602-6cf1-40cc-c4e2-4282f6a2056f"
      },
      "execution_count": null,
      "outputs": [
        {
          "output_type": "stream",
          "name": "stdout",
          "text": [
            "[2.33653685e-04 2.56692597e-04 7.17407128e-05 3.66693199e-03\n",
            " 5.01646803e-04 3.30269618e-04 2.32985818e-03 4.84096565e-04\n",
            " 7.50301403e-04 8.71362919e-03 2.51806295e-04 2.91933468e-04\n",
            " 3.43023770e-04 5.06051516e-04 2.17345794e-04 4.82384761e-04\n",
            " 1.03611636e-03 3.63206111e-04 7.11039419e-04 8.72277768e-04\n",
            " 4.27774343e-04 2.29824752e-04 6.71103411e-04 2.84737333e-04\n",
            " 2.05322538e-04 2.51417636e-04 1.60352556e-04 1.26077593e-04\n",
            " 3.72552508e-04 1.72561199e-04 3.02175282e-04 1.44654084e-04\n",
            " 2.62859990e-04 1.63300394e-04 1.34809784e-04 1.30217394e-04\n",
            " 1.94737356e-04 7.95981418e-03 8.93105841e-04 4.53864243e-03\n",
            " 2.97101896e-02 2.02520302e-02 1.70587570e-02 2.49165717e-03\n",
            " 1.78224445e-03 7.49683558e-04 1.00197272e-03 1.04244775e-03\n",
            " 7.92562833e-04 2.92087583e-02 2.11122786e-02 1.07337783e-02\n",
            " 3.24696706e-02 2.68535924e-02 1.15888456e-02 3.74546456e-03\n",
            " 2.01168245e-02 1.61209408e-02 7.94126831e-03 1.04323522e-03\n",
            " 5.68390113e-04 1.12507883e-04 3.87333596e-03 6.91839179e-03\n",
            " 3.53813411e-04 8.50326646e-03 3.84095666e-03 4.77495176e-03\n",
            " 1.83829422e-03 5.88245543e-03 4.01805375e-03 5.76692941e-03\n",
            " 3.28771705e-03 7.60308599e-03 7.69849977e-03 6.60168741e-03\n",
            " 4.61525978e-03 2.95538014e-03 6.41899960e-04 1.51290728e-03\n",
            " 1.26391739e-04 1.44654906e-04 1.54474789e-04 2.39457029e-03\n",
            " 4.70095290e-03 7.31717803e-04 8.98536183e-03 2.42250590e-03\n",
            " 3.41322735e-04 3.52045095e-03 2.67583797e-04 9.37481781e-04\n",
            " 3.48890326e-04 2.90926415e-04 2.95742274e-04 2.35234455e-03\n",
            " 2.23366854e-03 2.57995375e-04 4.92295347e-04 2.41214347e-03\n",
            " 2.37408842e-03 2.23786061e-03 2.80147671e-03 2.00080812e-04\n",
            " 4.77991400e-04 2.57971632e-04 7.47621387e-05 1.88809522e-04\n",
            " 1.92246785e-04 1.87328270e-04 1.62065594e-04 1.52801765e-04\n",
            " 2.15465501e-04 1.77445836e-04 2.05195978e-04 2.38064872e-04\n",
            " 2.72807210e-04 7.67416294e-04 3.43736308e-04 5.86527576e-04\n",
            " 1.09781282e-03 3.44778365e-04 8.29888828e-04 2.06601667e-03\n",
            " 8.14730815e-04 2.83300506e-04 1.97742321e-03 8.36473217e-04\n",
            " 6.97144388e-04 3.05750323e-03 2.77155495e-04 5.87284838e-04\n",
            " 2.20802108e-03 1.56016375e-04 3.96349112e-04 2.33122933e-04\n",
            " 1.65543988e-03 5.55520859e-04 8.88154410e-04 1.00095717e-03\n",
            " 4.65526721e-04 7.16741180e-04 1.68785340e-03 3.54896425e-04\n",
            " 4.58791744e-04 1.97298165e-03 1.87088652e-04 1.95872838e-04\n",
            " 3.38634852e-04 3.12354872e-04 2.05606292e-04 2.04075804e-04\n",
            " 2.61731304e-04 2.01767884e-04 1.07446399e-04 1.82853250e-04\n",
            " 3.17788522e-04 7.23467886e-04 9.12599064e-04 1.93427234e-03\n",
            " 2.68635640e-04 9.46956350e-05 2.51122616e-04 1.59544597e-03\n",
            " 2.78296181e-04 3.78591899e-04 3.50702893e-03 2.75002341e-04\n",
            " 6.58678129e-03 5.63440193e-04 4.29565669e-04 5.35280429e-04\n",
            " 9.99459908e-04 2.42352648e-04 2.62568066e-04 2.58674645e-03\n",
            " 2.10898226e-03 5.63059279e-04 3.36515642e-04 2.28514643e-03\n",
            " 2.32757523e-03 6.36480205e-03 8.33179283e-04 9.73460805e-05\n",
            " 2.27379024e-03 1.53601554e-03 5.36880451e-04 5.03704040e-04\n",
            " 1.86671144e-04 2.83321123e-04 2.06693463e-04 1.31971323e-04\n",
            " 2.69437303e-04 3.00550668e-04 2.35697726e-04 2.53424265e-04\n",
            " 4.39517508e-04 6.48718933e-04 7.87714545e-04 5.51576936e-04\n",
            " 7.98206179e-04 5.76147937e-03 8.21165639e-03 2.67818268e-03\n",
            " 2.42505938e-04 1.46011528e-03 1.88799242e-03 5.32238227e-04\n",
            " 1.97584606e-04 4.95393205e-03 2.28199064e-03 2.35376974e-04\n",
            " 1.31642366e-04 1.75844078e-04 8.84705853e-03 8.62704085e-03\n",
            " 3.24483533e-03 1.79882226e-04 2.01578400e-03 5.09414748e-04\n",
            " 4.97079421e-04 1.62915205e-04 5.26136326e-03 2.10828635e-03\n",
            " 2.60121150e-04 2.10511860e-04 2.68466254e-03 4.53335316e-03\n",
            " 7.12506708e-03 9.45558697e-05 1.45690825e-04 4.60312274e-03\n",
            " 6.49632149e-03 5.16057965e-03 2.22316594e-03 1.65280096e-04\n",
            " 2.68598166e-04 1.78186133e-04 1.52385372e-04 4.02360428e-04\n",
            " 1.40891710e-04 2.08336610e-04 1.72974745e-04 3.43688663e-04\n",
            " 3.89482249e-04 1.99396565e-04 2.36684910e-04 2.01433518e-04\n",
            " 3.21343277e-04 3.20472358e-04 1.71158654e-04 1.69320834e-04\n",
            " 9.11114104e-04 5.25449027e-04 2.60140480e-04 9.78801407e-05\n",
            " 1.47604099e-04 2.23338377e-03 3.64275268e-04 2.52810074e-04\n",
            " 2.80572449e-04 1.55056128e-04 1.54320863e-04 2.39663057e-04\n",
            " 2.49478906e-04 4.11554730e-03 1.52103673e-04 3.61059143e-04\n",
            " 4.82164331e-03 5.33643413e-04 3.86929666e-04 1.85375583e-02\n",
            " 4.30148209e-04 2.47531126e-04 4.67453583e-03 9.75637671e-04\n",
            " 3.43530988e-04 2.13700577e-04 9.35253074e-05 1.39379769e-04\n",
            " 2.14285211e-03 5.98157968e-03 4.16254554e-04 5.27817923e-04\n",
            " 1.83565125e-04 7.03799212e-05 2.63267147e-04 4.25550694e-03\n",
            " 1.50719358e-04 2.85215873e-04 4.41956024e-04 5.62105748e-04\n",
            " 9.40327333e-05 3.23034038e-04 3.53951384e-04 2.67571575e-03\n",
            " 1.73059511e-03 1.48733432e-03 1.05600297e-03 1.05322831e-03\n",
            " 4.04698874e-04 3.57430481e-04 3.50907358e-03 2.77118464e-03\n",
            " 2.12686328e-03 1.62111464e-04 2.26797972e-04 1.25445631e-04\n",
            " 1.23372781e-04 1.67034196e-04 2.77927297e-03 2.72538486e-04\n",
            " 2.59076139e-04 1.20520291e-04 4.64081232e-03 3.12252626e-04\n",
            " 1.22470527e-03 1.97482593e-04 5.88471603e-04 1.39047658e-04\n",
            " 7.61102932e-05 1.16110770e-04 1.33347733e-04 1.55362832e-04\n",
            " 5.43779353e-04 2.20889883e-04 1.66508034e-04 2.40798131e-04\n",
            " 3.36210656e-04 1.98693071e-04 7.81299839e-04 2.66041794e-04\n",
            " 8.47194025e-04 1.75243752e-04 1.18346605e-04 1.63352072e-04\n",
            " 9.94066730e-05 1.08790233e-04 5.14599513e-04 6.63343988e-04\n",
            " 2.08557744e-04 2.29177515e-04 3.69496936e-04 4.68960923e-04\n",
            " 1.47540503e-02 2.29961089e-03 3.79873479e-04 6.25354062e-03\n",
            " 2.86581687e-03 3.58387302e-04 6.26265392e-03 4.21407401e-03\n",
            " 6.90116208e-04 8.26536039e-03 4.28851192e-04 2.98055127e-04\n",
            " 1.50776775e-04 1.55738818e-04 9.33577771e-05 2.23617748e-03\n",
            " 2.77103495e-03 2.55140520e-03 5.49048791e-04 1.52264955e-04\n",
            " 2.07507622e-03 5.48910603e-04 6.43560515e-03 2.15234272e-03\n",
            " 2.42217045e-04 1.78094408e-03 2.90904542e-04 3.58812953e-03\n",
            " 2.94257495e-04 4.15240293e-04 4.03692145e-04 2.99033976e-04\n",
            " 2.37929495e-04 2.58283823e-04 2.64148297e-04 2.03292543e-04\n",
            " 1.65906911e-04 5.33273055e-03 3.34533357e-04 2.08279332e-04\n",
            " 1.16674407e-04 1.73792300e-04 6.07018158e-04 1.84018249e-04\n",
            " 8.56110895e-05 3.17671955e-03 1.68688811e-04 7.37724532e-04\n",
            " 1.30771153e-04 1.62502262e-02 1.24963916e-04 2.07629940e-04\n",
            " 5.46853841e-04 6.96947145e-04 2.22198997e-04 1.82304454e-04\n",
            " 1.92078316e-04 1.35373282e-04 1.10206807e-04 5.44103814e-04\n",
            " 2.78313526e-04 1.22830485e-04 9.99723761e-05 2.77271093e-03\n",
            " 1.75615642e-04 2.54821666e-03 3.29817292e-04 6.04830780e-04\n",
            " 4.45485388e-04 2.57934773e-04 1.96182560e-04 1.77411742e-04\n",
            " 1.09377518e-04 3.24807235e-04 1.04494813e-03 3.65446747e-04\n",
            " 2.42313540e-04 3.08061010e-04 3.82746404e-04 1.38164719e-03\n",
            " 4.63876351e-04 2.98040725e-04 2.34356238e-03 5.92018463e-04\n",
            " 8.40084138e-04 2.59420831e-03 6.80592060e-04 4.33320624e-04\n",
            " 2.07826763e-03 3.81740882e-04 6.71475393e-04 9.55682668e-05\n",
            " 1.45608310e-04 2.45579867e-04 6.27031269e-03 1.53222022e-03\n",
            " 6.40807645e-04 4.98427164e-04 4.08603212e-04 6.42038543e-04\n",
            " 2.57837711e-04 1.98219092e-03 2.94552663e-04 2.17794055e-03\n",
            " 3.64699743e-03 2.22750488e-03 2.76525672e-03 3.66366145e-03\n",
            " 3.89544458e-04 2.86827937e-04 4.05403114e-04 4.08566867e-04\n",
            " 6.59498140e-04 5.20783291e-04 1.01618656e-03 5.75354830e-04\n",
            " 2.00890013e-03 1.38562283e-03 5.54894450e-04 2.44459389e-04\n",
            " 3.07397136e-04 4.97399415e-04 3.34994451e-04 4.16852082e-04\n",
            " 2.68813314e-03 4.77429925e-04 5.71491182e-04 4.98037514e-04\n",
            " 2.43480010e-03 2.58083744e-04 9.01874309e-04 3.14350693e-04\n",
            " 4.35358991e-04 4.36966972e-04 2.02247069e-04 1.06166913e-04\n",
            " 1.37451640e-04 1.19439513e-04 6.14950338e-04 4.67714650e-04\n",
            " 2.47561228e-04 1.10212669e-04 3.64133503e-04 3.26893121e-04\n",
            " 6.83472285e-04 1.54364100e-04 2.21053496e-04 4.98198263e-04\n",
            " 2.53422539e-04 2.32736659e-04 2.08816222e-04 3.19294357e-04\n",
            " 5.32704465e-04 4.15145215e-04 3.11110539e-04 4.09171629e-04\n",
            " 6.51183898e-04 6.31226048e-04 4.17534121e-03 6.12246370e-03\n",
            " 6.39994108e-03 1.77858290e-03 2.35535171e-04 7.35414209e-03\n",
            " 7.60188445e-03 1.59008281e-03 2.31824752e-03 1.42465021e-04\n",
            " 2.61819070e-03 3.04443162e-04 2.44577090e-04 2.30591766e-03\n",
            " 1.58925481e-03 9.26998895e-04 1.07885697e-03 1.15997912e-04\n",
            " 4.19336199e-04 3.01752360e-03 1.58397034e-04 1.15994000e-04\n",
            " 6.30083705e-05 1.90840814e-04 6.44491428e-04 4.51716712e-04\n",
            " 1.59987308e-04 1.95201028e-04 1.58845656e-04 3.16457823e-04\n",
            " 1.81285682e-04 1.63317456e-04 2.45459995e-04 1.50255162e-04\n",
            " 3.85803317e-04 7.28638581e-04 1.33468996e-03 4.45128313e-04\n",
            " 2.50547762e-04 1.48784477e-04 3.20403734e-04 3.52613669e-04\n",
            " 3.65914509e-04 8.27226095e-05 2.90367400e-04 2.40529189e-04\n",
            " 1.89979655e-04 1.64998074e-04 3.70366878e-04 2.02293647e-04\n",
            " 3.62409994e-04 3.85110980e-04 1.68530015e-04 1.01220371e-04\n",
            " 4.60905899e-04 3.39903146e-04 2.82208336e-02 2.64116250e-02\n",
            " 1.03791231e-02]\n"
          ]
        }
      ]
    }
  ]
}